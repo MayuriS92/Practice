{
 "cells": [
  {
   "cell_type": "code",
   "execution_count": 2,
   "id": "194f6f29",
   "metadata": {},
   "outputs": [],
   "source": [
    "l =[1,6,5,2,8,6,9,1,8,28,896,4]"
   ]
  },
  {
   "cell_type": "code",
   "execution_count": 3,
   "id": "f6c524e1",
   "metadata": {},
   "outputs": [
    {
     "name": "stdout",
     "output_type": "stream",
     "text": [
      "1\n",
      "6\n",
      "5\n",
      "2\n",
      "8\n",
      "6\n",
      "9\n",
      "1\n",
      "8\n",
      "28\n",
      "896\n",
      "4\n"
     ]
    }
   ],
   "source": [
    "for i in l: \n",
    "    print(i)"
   ]
  },
  {
   "cell_type": "code",
   "execution_count": 4,
   "id": "45ead882",
   "metadata": {},
   "outputs": [
    {
     "ename": "TypeError",
     "evalue": "'list' object is not an iterator",
     "output_type": "error",
     "traceback": [
      "\u001b[1;31m---------------------------------------------------------------------------\u001b[0m",
      "\u001b[1;31mTypeError\u001b[0m                                 Traceback (most recent call last)",
      "Cell \u001b[1;32mIn[4], line 1\u001b[0m\n\u001b[1;32m----> 1\u001b[0m \u001b[38;5;28;43mnext\u001b[39;49m\u001b[43m(\u001b[49m\u001b[43ml\u001b[49m\u001b[43m)\u001b[49m\n",
      "\u001b[1;31mTypeError\u001b[0m: 'list' object is not an iterator"
     ]
    }
   ],
   "source": [
    "next(l)"
   ]
  },
  {
   "cell_type": "code",
   "execution_count": null,
   "id": "aa3cf38b",
   "metadata": {},
   "outputs": [],
   "source": [
    "next[l]"
   ]
  },
  {
   "cell_type": "code",
   "execution_count": null,
   "id": "e284f0c9",
   "metadata": {},
   "outputs": [],
   "source": [
    "b = iter(l)"
   ]
  },
  {
   "cell_type": "code",
   "execution_count": null,
   "id": "115c6e1f",
   "metadata": {},
   "outputs": [],
   "source": [
    "next(b)"
   ]
  },
  {
   "cell_type": "code",
   "execution_count": 10,
   "id": "6fea1ec3",
   "metadata": {},
   "outputs": [
    {
     "data": {
      "text/plain": [
       "6"
      ]
     },
     "execution_count": 10,
     "metadata": {},
     "output_type": "execute_result"
    }
   ],
   "source": [
    "next(b)"
   ]
  },
  {
   "cell_type": "code",
   "execution_count": 11,
   "id": "9b6f781f",
   "metadata": {},
   "outputs": [
    {
     "data": {
      "text/plain": [
       "5"
      ]
     },
     "execution_count": 11,
     "metadata": {},
     "output_type": "execute_result"
    }
   ],
   "source": [
    "next(b)"
   ]
  },
  {
   "cell_type": "code",
   "execution_count": 12,
   "id": "5f85d05f",
   "metadata": {},
   "outputs": [
    {
     "data": {
      "text/plain": [
       "2"
      ]
     },
     "execution_count": 12,
     "metadata": {},
     "output_type": "execute_result"
    }
   ],
   "source": [
    "next(b)"
   ]
  },
  {
   "cell_type": "code",
   "execution_count": 13,
   "id": "51368c3a",
   "metadata": {},
   "outputs": [
    {
     "data": {
      "text/plain": [
       "8"
      ]
     },
     "execution_count": 13,
     "metadata": {},
     "output_type": "execute_result"
    }
   ],
   "source": [
    "next(b)"
   ]
  },
  {
   "cell_type": "code",
   "execution_count": 14,
   "id": "d2aa00e2",
   "metadata": {},
   "outputs": [
    {
     "ename": "TypeError",
     "evalue": "'int' object is not iterable",
     "output_type": "error",
     "traceback": [
      "\u001b[1;31m---------------------------------------------------------------------------\u001b[0m",
      "\u001b[1;31mTypeError\u001b[0m                                 Traceback (most recent call last)",
      "Cell \u001b[1;32mIn[14], line 1\u001b[0m\n\u001b[1;32m----> 1\u001b[0m \u001b[38;5;28;43miter\u001b[39;49m\u001b[43m(\u001b[49m\u001b[38;5;241;43m45\u001b[39;49m\u001b[43m)\u001b[49m\n",
      "\u001b[1;31mTypeError\u001b[0m: 'int' object is not iterable"
     ]
    }
   ],
   "source": [
    "iter(45)"
   ]
  },
  {
   "cell_type": "code",
   "execution_count": 18,
   "id": "6268472c",
   "metadata": {},
   "outputs": [],
   "source": [
    "a = iter(\"mayuri\")"
   ]
  },
  {
   "cell_type": "code",
   "execution_count": 20,
   "id": "99b7683e",
   "metadata": {},
   "outputs": [
    {
     "data": {
      "text/plain": [
       "'a'"
      ]
     },
     "execution_count": 20,
     "metadata": {},
     "output_type": "execute_result"
    }
   ],
   "source": [
    "next(a)"
   ]
  },
  {
   "cell_type": "code",
   "execution_count": 21,
   "id": "7506ad67",
   "metadata": {},
   "outputs": [
    {
     "data": {
      "text/plain": [
       "'y'"
      ]
     },
     "execution_count": 21,
     "metadata": {},
     "output_type": "execute_result"
    }
   ],
   "source": [
    "next(a)"
   ]
  },
  {
   "cell_type": "code",
   "execution_count": 24,
   "id": "fb9fff08",
   "metadata": {},
   "outputs": [
    {
     "data": {
      "text/plain": [
       "'r'"
      ]
     },
     "execution_count": 24,
     "metadata": {},
     "output_type": "execute_result"
    }
   ],
   "source": [
    "next(a)"
   ]
  },
  {
   "cell_type": "code",
   "execution_count": 25,
   "id": "3bd46cd3",
   "metadata": {},
   "outputs": [
    {
     "data": {
      "text/plain": [
       "'i'"
      ]
     },
     "execution_count": 25,
     "metadata": {},
     "output_type": "execute_result"
    }
   ],
   "source": [
    "next(a)"
   ]
  },
  {
   "cell_type": "code",
   "execution_count": 26,
   "id": "0e1a815e",
   "metadata": {},
   "outputs": [
    {
     "ename": "StopIteration",
     "evalue": "",
     "output_type": "error",
     "traceback": [
      "\u001b[1;31m---------------------------------------------------------------------------\u001b[0m",
      "\u001b[1;31mStopIteration\u001b[0m                             Traceback (most recent call last)",
      "Cell \u001b[1;32mIn[26], line 1\u001b[0m\n\u001b[1;32m----> 1\u001b[0m \u001b[38;5;28;43mnext\u001b[39;49m\u001b[43m(\u001b[49m\u001b[43ma\u001b[49m\u001b[43m)\u001b[49m\n",
      "\u001b[1;31mStopIteration\u001b[0m: "
     ]
    }
   ],
   "source": [
    "next(a)"
   ]
  },
  {
   "cell_type": "code",
   "execution_count": 28,
   "id": "dc5f2f28",
   "metadata": {},
   "outputs": [],
   "source": [
    "s = {1,5,6,8,85,\"mayuri\",\"abc\"}"
   ]
  },
  {
   "cell_type": "code",
   "execution_count": 35,
   "id": "8c702869",
   "metadata": {},
   "outputs": [],
   "source": [
    "S= iter(s)"
   ]
  },
  {
   "cell_type": "code",
   "execution_count": 38,
   "id": "e000c825",
   "metadata": {},
   "outputs": [
    {
     "data": {
      "text/plain": [
       "5"
      ]
     },
     "execution_count": 38,
     "metadata": {},
     "output_type": "execute_result"
    }
   ],
   "source": [
    "next(S)"
   ]
  },
  {
   "cell_type": "code",
   "execution_count": 39,
   "id": "007a6176",
   "metadata": {},
   "outputs": [
    {
     "data": {
      "text/plain": [
       "6"
      ]
     },
     "execution_count": 39,
     "metadata": {},
     "output_type": "execute_result"
    }
   ],
   "source": [
    "next(S)"
   ]
  },
  {
   "cell_type": "code",
   "execution_count": 40,
   "id": "34dd2d06",
   "metadata": {},
   "outputs": [
    {
     "data": {
      "text/plain": [
       "85"
      ]
     },
     "execution_count": 40,
     "metadata": {},
     "output_type": "execute_result"
    }
   ],
   "source": [
    "next(S)"
   ]
  },
  {
   "cell_type": "code",
   "execution_count": 54,
   "id": "b77bfa8e",
   "metadata": {},
   "outputs": [],
   "source": [
    "d = {\"k1\": \"njkhu\", \"jk\": \"gyg\", \"guef\":\"bhgd\"}"
   ]
  },
  {
   "cell_type": "code",
   "execution_count": 55,
   "id": "07f03add",
   "metadata": {},
   "outputs": [],
   "source": [
    "D = iter(d)"
   ]
  },
  {
   "cell_type": "code",
   "execution_count": 56,
   "id": "9e1caa3d",
   "metadata": {},
   "outputs": [
    {
     "data": {
      "text/plain": [
       "'k1'"
      ]
     },
     "execution_count": 56,
     "metadata": {},
     "output_type": "execute_result"
    }
   ],
   "source": [
    "next(D)"
   ]
  },
  {
   "cell_type": "code",
   "execution_count": 57,
   "id": "af3eaa06",
   "metadata": {},
   "outputs": [
    {
     "data": {
      "text/plain": [
       "'jk'"
      ]
     },
     "execution_count": 57,
     "metadata": {},
     "output_type": "execute_result"
    }
   ],
   "source": [
    "next(D)"
   ]
  },
  {
   "cell_type": "code",
   "execution_count": 59,
   "id": "370b403e",
   "metadata": {},
   "outputs": [],
   "source": [
    "t = (4,\"h\", 785, \"arf\")"
   ]
  },
  {
   "cell_type": "code",
   "execution_count": 60,
   "id": "c33b46af",
   "metadata": {},
   "outputs": [],
   "source": [
    "T = iter(t)"
   ]
  },
  {
   "cell_type": "code",
   "execution_count": 61,
   "id": "18cf8ae1",
   "metadata": {},
   "outputs": [
    {
     "data": {
      "text/plain": [
       "4"
      ]
     },
     "execution_count": 61,
     "metadata": {},
     "output_type": "execute_result"
    }
   ],
   "source": [
    "next(T)"
   ]
  },
  {
   "cell_type": "code",
   "execution_count": 62,
   "id": "9303a535",
   "metadata": {},
   "outputs": [
    {
     "data": {
      "text/plain": [
       "'h'"
      ]
     },
     "execution_count": 62,
     "metadata": {},
     "output_type": "execute_result"
    }
   ],
   "source": [
    "next(T)"
   ]
  },
  {
   "cell_type": "code",
   "execution_count": 63,
   "id": "19c4d159",
   "metadata": {},
   "outputs": [
    {
     "data": {
      "text/plain": [
       "785"
      ]
     },
     "execution_count": 63,
     "metadata": {},
     "output_type": "execute_result"
    }
   ],
   "source": [
    "next(T)"
   ]
  },
  {
   "cell_type": "code",
   "execution_count": 64,
   "id": "3bb316c9",
   "metadata": {},
   "outputs": [
    {
     "data": {
      "text/plain": [
       "'arf'"
      ]
     },
     "execution_count": 64,
     "metadata": {},
     "output_type": "execute_result"
    }
   ],
   "source": [
    "next(T)"
   ]
  },
  {
   "cell_type": "code",
   "execution_count": 65,
   "id": "eabfbc68",
   "metadata": {},
   "outputs": [
    {
     "ename": "StopIteration",
     "evalue": "",
     "output_type": "error",
     "traceback": [
      "\u001b[1;31m---------------------------------------------------------------------------\u001b[0m",
      "\u001b[1;31mStopIteration\u001b[0m                             Traceback (most recent call last)",
      "Cell \u001b[1;32mIn[65], line 1\u001b[0m\n\u001b[1;32m----> 1\u001b[0m \u001b[38;5;28;43mnext\u001b[39;49m\u001b[43m(\u001b[49m\u001b[43mT\u001b[49m\u001b[43m)\u001b[49m\n",
      "\u001b[1;31mStopIteration\u001b[0m: "
     ]
    }
   ],
   "source": [
    "next(T)"
   ]
  },
  {
   "cell_type": "code",
   "execution_count": 67,
   "id": "e03310f3",
   "metadata": {},
   "outputs": [],
   "source": [
    "## generator function"
   ]
  },
  {
   "cell_type": "code",
   "execution_count": 499,
   "id": "64c5410e",
   "metadata": {},
   "outputs": [],
   "source": [
    "l = list(range(1,10))"
   ]
  },
  {
   "cell_type": "code",
   "execution_count": 506,
   "id": "ae063c6c",
   "metadata": {},
   "outputs": [],
   "source": [
    "def square_one(n):\n",
    "    if i in n:\n",
    "        return i*i\n",
    "    "
   ]
  },
  {
   "cell_type": "code",
   "execution_count": 507,
   "id": "8c30d361",
   "metadata": {},
   "outputs": [
    {
     "data": {
      "text/plain": [
       "81"
      ]
     },
     "execution_count": 507,
     "metadata": {},
     "output_type": "execute_result"
    }
   ],
   "source": [
    "square_one(l)"
   ]
  },
  {
   "cell_type": "code",
   "execution_count": 78,
   "id": "336f93ed",
   "metadata": {},
   "outputs": [],
   "source": [
    "def square_fun(n):\n",
    "    x=[i*i for i in range(n)]\n",
    "    return x"
   ]
  },
  {
   "cell_type": "code",
   "execution_count": 508,
   "id": "f4fab78f",
   "metadata": {},
   "outputs": [
    {
     "data": {
      "text/plain": [
       "[0, 1, 4, 9, 16, 25, 36, 49, 64, 81, 100]"
      ]
     },
     "execution_count": 508,
     "metadata": {},
     "output_type": "execute_result"
    }
   ],
   "source": [
    "square_fun(11)"
   ]
  },
  {
   "cell_type": "code",
   "execution_count": 81,
   "id": "e88fa607",
   "metadata": {},
   "outputs": [],
   "source": [
    "def square_fun(n):\n",
    "    x= [i*i for i in range(n)]\n",
    "    return x"
   ]
  },
  {
   "cell_type": "code",
   "execution_count": 82,
   "id": "b9811440",
   "metadata": {},
   "outputs": [
    {
     "data": {
      "text/plain": [
       "[0, 1, 4, 9, 16, 25, 36, 49, 64, 81, 100, 121, 144, 169, 196]"
      ]
     },
     "execution_count": 82,
     "metadata": {},
     "output_type": "execute_result"
    }
   ],
   "source": [
    "square_fun(15)"
   ]
  },
  {
   "cell_type": "code",
   "execution_count": 86,
   "id": "4b6af0c5",
   "metadata": {},
   "outputs": [],
   "source": [
    "def square_fun(n):\n",
    "    x = [i*i for i in range(n)]\n",
    "    return x"
   ]
  },
  {
   "cell_type": "code",
   "execution_count": 87,
   "id": "68a09ab3",
   "metadata": {},
   "outputs": [
    {
     "data": {
      "text/plain": [
       "[0, 1, 4, 9, 16, 25, 36, 49, 64, 81, 100, 121, 144, 169, 196]"
      ]
     },
     "execution_count": 87,
     "metadata": {},
     "output_type": "execute_result"
    }
   ],
   "source": [
    "square_fun(15)"
   ]
  },
  {
   "cell_type": "code",
   "execution_count": 89,
   "id": "0724cb72",
   "metadata": {},
   "outputs": [
    {
     "data": {
      "text/plain": [
       "[0, 1, 4, 9, 16]"
      ]
     },
     "execution_count": 89,
     "metadata": {},
     "output_type": "execute_result"
    }
   ],
   "source": [
    "square_fun(5)"
   ]
  },
  {
   "cell_type": "code",
   "execution_count": 91,
   "id": "4832ea75",
   "metadata": {},
   "outputs": [],
   "source": [
    "def addition_fun(a, b):\n",
    "    return a+b\n",
    "    "
   ]
  },
  {
   "cell_type": "code",
   "execution_count": 93,
   "id": "0f2354cc",
   "metadata": {},
   "outputs": [
    {
     "data": {
      "text/plain": [
       "7"
      ]
     },
     "execution_count": 93,
     "metadata": {},
     "output_type": "execute_result"
    }
   ],
   "source": [
    "addition_fun(1,6)"
   ]
  },
  {
   "cell_type": "code",
   "execution_count": 94,
   "id": "52f1cf22",
   "metadata": {},
   "outputs": [
    {
     "data": {
      "text/plain": [
       "17"
      ]
     },
     "execution_count": 94,
     "metadata": {},
     "output_type": "execute_result"
    }
   ],
   "source": [
    "addition_fun(8,9)"
   ]
  },
  {
   "cell_type": "code",
   "execution_count": 96,
   "id": "353b000f",
   "metadata": {},
   "outputs": [],
   "source": [
    "def mult_fun(a,b):\n",
    "    return a*b"
   ]
  },
  {
   "cell_type": "code",
   "execution_count": 98,
   "id": "6e0e84f9",
   "metadata": {},
   "outputs": [
    {
     "data": {
      "text/plain": [
       "30"
      ]
     },
     "execution_count": 98,
     "metadata": {},
     "output_type": "execute_result"
    }
   ],
   "source": [
    "mult_fun(5,6)"
   ]
  },
  {
   "cell_type": "code",
   "execution_count": 101,
   "id": "dcc61374",
   "metadata": {},
   "outputs": [
    {
     "data": {
      "text/plain": [
       "[1, 2, 3, 4, 5, 6, 7, 8, 9]"
      ]
     },
     "execution_count": 101,
     "metadata": {},
     "output_type": "execute_result"
    }
   ],
   "source": [
    "list(range(1,10))"
   ]
  },
  {
   "cell_type": "code",
   "execution_count": 103,
   "id": "251a1abf",
   "metadata": {},
   "outputs": [],
   "source": [
    "def square_fun(n):\n",
    "    x=[i*i for i in range(n)]\n",
    "    yield x"
   ]
  },
  {
   "cell_type": "code",
   "execution_count": 106,
   "id": "62838926",
   "metadata": {},
   "outputs": [
    {
     "data": {
      "text/plain": [
       "<generator object square_fun at 0x000001D22C1D07B0>"
      ]
     },
     "execution_count": 106,
     "metadata": {},
     "output_type": "execute_result"
    }
   ],
   "source": [
    "square_fun(4)   ## yield function is used to give generator object"
   ]
  },
  {
   "cell_type": "code",
   "execution_count": 107,
   "id": "abf0481b",
   "metadata": {},
   "outputs": [
    {
     "name": "stdout",
     "output_type": "stream",
     "text": [
      "[0, 1, 4, 9]\n"
     ]
    }
   ],
   "source": [
    "for i in square_fun(4):\n",
    "    print(i)"
   ]
  },
  {
   "cell_type": "code",
   "execution_count": 108,
   "id": "034255b8",
   "metadata": {},
   "outputs": [
    {
     "name": "stdout",
     "output_type": "stream",
     "text": [
      "0\n",
      "1\n",
      "2\n",
      "3\n"
     ]
    }
   ],
   "source": [
    "for i in range(4):\n",
    "    print(i)"
   ]
  },
  {
   "cell_type": "code",
   "execution_count": 113,
   "id": "24b14dbb",
   "metadata": {},
   "outputs": [],
   "source": [
    "a = \"1235456\"\n",
    "r = iter(range(5))"
   ]
  },
  {
   "cell_type": "code",
   "execution_count": 114,
   "id": "0df269c9",
   "metadata": {},
   "outputs": [
    {
     "data": {
      "text/plain": [
       "0"
      ]
     },
     "execution_count": 114,
     "metadata": {},
     "output_type": "execute_result"
    }
   ],
   "source": [
    "next (r)"
   ]
  },
  {
   "cell_type": "code",
   "execution_count": 115,
   "id": "f30e5764",
   "metadata": {},
   "outputs": [
    {
     "data": {
      "text/plain": [
       "1"
      ]
     },
     "execution_count": 115,
     "metadata": {},
     "output_type": "execute_result"
    }
   ],
   "source": [
    "next(r)"
   ]
  },
  {
   "cell_type": "code",
   "execution_count": 116,
   "id": "86f8df19",
   "metadata": {},
   "outputs": [
    {
     "data": {
      "text/plain": [
       "2"
      ]
     },
     "execution_count": 116,
     "metadata": {},
     "output_type": "execute_result"
    }
   ],
   "source": [
    "next(r)"
   ]
  },
  {
   "cell_type": "code",
   "execution_count": 117,
   "id": "fb8d2dc1",
   "metadata": {},
   "outputs": [
    {
     "data": {
      "text/plain": [
       "3"
      ]
     },
     "execution_count": 117,
     "metadata": {},
     "output_type": "execute_result"
    }
   ],
   "source": [
    "next(r)"
   ]
  },
  {
   "cell_type": "code",
   "execution_count": 118,
   "id": "4d908f74",
   "metadata": {},
   "outputs": [
    {
     "data": {
      "text/plain": [
       "4"
      ]
     },
     "execution_count": 118,
     "metadata": {},
     "output_type": "execute_result"
    }
   ],
   "source": [
    "next(r)"
   ]
  },
  {
   "cell_type": "code",
   "execution_count": 119,
   "id": "134c62fc",
   "metadata": {},
   "outputs": [
    {
     "ename": "StopIteration",
     "evalue": "",
     "output_type": "error",
     "traceback": [
      "\u001b[1;31m---------------------------------------------------------------------------\u001b[0m",
      "\u001b[1;31mStopIteration\u001b[0m                             Traceback (most recent call last)",
      "Cell \u001b[1;32mIn[119], line 1\u001b[0m\n\u001b[1;32m----> 1\u001b[0m \u001b[38;5;28;43mnext\u001b[39;49m\u001b[43m(\u001b[49m\u001b[43mr\u001b[49m\u001b[43m)\u001b[49m\n",
      "\u001b[1;31mStopIteration\u001b[0m: "
     ]
    }
   ],
   "source": [
    "next(r)"
   ]
  },
  {
   "cell_type": "code",
   "execution_count": 120,
   "id": "accb7903",
   "metadata": {},
   "outputs": [
    {
     "name": "stdout",
     "output_type": "stream",
     "text": [
      "[0, 1, 4, 9]\n"
     ]
    }
   ],
   "source": [
    "for i in square_fun(4):\n",
    "    print(i)"
   ]
  },
  {
   "cell_type": "code",
   "execution_count": 122,
   "id": "c94c36da",
   "metadata": {},
   "outputs": [
    {
     "ename": "SyntaxError",
     "evalue": "'yield' outside function (2356061562.py, line 2)",
     "output_type": "error",
     "traceback": [
      "\u001b[1;36m  Cell \u001b[1;32mIn[122], line 2\u001b[1;36m\u001b[0m\n\u001b[1;33m    yield i\u001b[0m\n\u001b[1;37m    ^\u001b[0m\n\u001b[1;31mSyntaxError\u001b[0m\u001b[1;31m:\u001b[0m 'yield' outside function\n"
     ]
    }
   ],
   "source": [
    "for i in square_fun(4):\n",
    "    yield i"
   ]
  },
  {
   "cell_type": "code",
   "execution_count": 123,
   "id": "89455fd3",
   "metadata": {},
   "outputs": [],
   "source": [
    "def square_fun(n):\n",
    "    x=[i*i for i in range(n)]\n",
    "    yield x"
   ]
  },
  {
   "cell_type": "code",
   "execution_count": 124,
   "id": "1f4c6211",
   "metadata": {},
   "outputs": [
    {
     "data": {
      "text/plain": [
       "<generator object square_fun at 0x000001D22C0154D0>"
      ]
     },
     "execution_count": 124,
     "metadata": {},
     "output_type": "execute_result"
    }
   ],
   "source": [
    "square_fun(5)"
   ]
  },
  {
   "cell_type": "code",
   "execution_count": 125,
   "id": "d4581f41",
   "metadata": {},
   "outputs": [
    {
     "name": "stdout",
     "output_type": "stream",
     "text": [
      "[0, 1, 4, 9, 16]\n"
     ]
    }
   ],
   "source": [
    "for i in square_fun(5):\n",
    "    print(i)"
   ]
  },
  {
   "cell_type": "code",
   "execution_count": 126,
   "id": "cf480192",
   "metadata": {},
   "outputs": [],
   "source": [
    "## fibonacci series"
   ]
  },
  {
   "cell_type": "code",
   "execution_count": 127,
   "id": "1cd80fa1",
   "metadata": {},
   "outputs": [
    {
     "data": {
      "text/plain": [
       "(1, 1, 2, 3, 5, 8, 13, 21, 34, 55)"
      ]
     },
     "execution_count": 127,
     "metadata": {},
     "output_type": "execute_result"
    }
   ],
   "source": [
    "1,1,2,3,5,8,13,21,34,55\n"
   ]
  },
  {
   "cell_type": "code",
   "execution_count": 128,
   "id": "86cf82b2",
   "metadata": {},
   "outputs": [],
   "source": [
    "def genfb(n):\n",
    "    a=1\n",
    "    b=1\n",
    "    l = []\n",
    "    for i in range(n):\n",
    "        l.append(a)\n",
    "        a,b = b, a+b\n",
    "    return l    \n"
   ]
  },
  {
   "cell_type": "code",
   "execution_count": 129,
   "id": "c13f4e1c",
   "metadata": {},
   "outputs": [
    {
     "data": {
      "text/plain": [
       "[1, 1, 2, 3, 5, 8, 13, 21, 34, 55]"
      ]
     },
     "execution_count": 129,
     "metadata": {},
     "output_type": "execute_result"
    }
   ],
   "source": [
    "genfb(10)"
   ]
  },
  {
   "cell_type": "code",
   "execution_count": 130,
   "id": "18a060ba",
   "metadata": {},
   "outputs": [],
   "source": [
    "def genfb(n):\n",
    "    a =1\n",
    "    b=1\n",
    "    l =[]\n",
    "    for i in range(n):\n",
    "        l.append(a)\n",
    "        a,b = b, a+b\n",
    "    return l    "
   ]
  },
  {
   "cell_type": "code",
   "execution_count": 134,
   "id": "d0e6c6fb",
   "metadata": {},
   "outputs": [],
   "source": [
    "def genfb(n):\n",
    "    a= 2\n",
    "    b =3\n",
    "    l = []\n",
    "    for i in range(n):\n",
    "        l.append(a)\n",
    "        a, b= b, a+b\n",
    "    return l    "
   ]
  },
  {
   "cell_type": "code",
   "execution_count": 135,
   "id": "a655461e",
   "metadata": {},
   "outputs": [
    {
     "data": {
      "text/plain": [
       "[2, 3, 5, 8, 13, 21, 34, 55, 89, 144]"
      ]
     },
     "execution_count": 135,
     "metadata": {},
     "output_type": "execute_result"
    }
   ],
   "source": [
    "genfb(10)"
   ]
  },
  {
   "cell_type": "code",
   "execution_count": 137,
   "id": "34739fc5",
   "metadata": {},
   "outputs": [],
   "source": [
    "def genfb(n):\n",
    "    a =1\n",
    "    b =2\n",
    "    l = []\n",
    "    for i in range(n):\n",
    "        l.append(a)\n",
    "        a, b=b, a*b\n",
    "    return l    "
   ]
  },
  {
   "cell_type": "code",
   "execution_count": 141,
   "id": "5a6a43af",
   "metadata": {},
   "outputs": [
    {
     "data": {
      "text/plain": [
       "[1,\n",
       " 2,\n",
       " 2,\n",
       " 4,\n",
       " 8,\n",
       " 32,\n",
       " 256,\n",
       " 8192,\n",
       " 2097152,\n",
       " 17179869184,\n",
       " 36028797018963968,\n",
       " 618970019642690137449562112]"
      ]
     },
     "execution_count": 141,
     "metadata": {},
     "output_type": "execute_result"
    }
   ],
   "source": [
    "genfb(12)"
   ]
  },
  {
   "cell_type": "code",
   "execution_count": 142,
   "id": "2d2b00e9",
   "metadata": {},
   "outputs": [],
   "source": [
    "def genfb(n):\n",
    "    a =1\n",
    "    b =2\n",
    "    l = []\n",
    "    for i in range(n):\n",
    "        l.append(a)\n",
    "        a, b=b, a*b\n",
    "    yield l  "
   ]
  },
  {
   "cell_type": "code",
   "execution_count": 143,
   "id": "83729b88",
   "metadata": {},
   "outputs": [
    {
     "data": {
      "text/plain": [
       "<generator object genfb at 0x000001D22C014AC0>"
      ]
     },
     "execution_count": 143,
     "metadata": {},
     "output_type": "execute_result"
    }
   ],
   "source": [
    "genfb(10)"
   ]
  },
  {
   "cell_type": "code",
   "execution_count": 147,
   "id": "e20867c4",
   "metadata": {},
   "outputs": [
    {
     "name": "stdout",
     "output_type": "stream",
     "text": [
      "[1, 2, 2, 4, 8, 32, 256, 8192, 2097152, 17179869184, 36028797018963968, 618970019642690137449562112, 22300745198530623141535718272648361505980416, 13803492693581127574869511724554050904902217944340773110325048447598592, 307828173409331868845930000782371982852185463050511302093346042220669701339821957901673955116288403443801781174272]\n"
     ]
    }
   ],
   "source": [
    "for i in genfb(15):\n",
    "    print(i)"
   ]
  },
  {
   "cell_type": "code",
   "execution_count": 148,
   "id": "117a1e04",
   "metadata": {},
   "outputs": [],
   "source": [
    "l =[1,5,6,5,7]"
   ]
  },
  {
   "cell_type": "code",
   "execution_count": 149,
   "id": "392de5a2",
   "metadata": {},
   "outputs": [
    {
     "ename": "TypeError",
     "evalue": "'list' object is not an iterator",
     "output_type": "error",
     "traceback": [
      "\u001b[1;31m---------------------------------------------------------------------------\u001b[0m",
      "\u001b[1;31mTypeError\u001b[0m                                 Traceback (most recent call last)",
      "Cell \u001b[1;32mIn[149], line 1\u001b[0m\n\u001b[1;32m----> 1\u001b[0m \u001b[38;5;28;43mnext\u001b[39;49m\u001b[43m(\u001b[49m\u001b[43ml\u001b[49m\u001b[43m)\u001b[49m\n",
      "\u001b[1;31mTypeError\u001b[0m: 'list' object is not an iterator"
     ]
    }
   ],
   "source": [
    "next(l)"
   ]
  },
  {
   "cell_type": "code",
   "execution_count": 150,
   "id": "95d5c9cc",
   "metadata": {},
   "outputs": [],
   "source": [
    "L = iter(l)"
   ]
  },
  {
   "cell_type": "code",
   "execution_count": 151,
   "id": "29623f98",
   "metadata": {},
   "outputs": [
    {
     "data": {
      "text/plain": [
       "1"
      ]
     },
     "execution_count": 151,
     "metadata": {},
     "output_type": "execute_result"
    }
   ],
   "source": [
    "next(L)"
   ]
  },
  {
   "cell_type": "code",
   "execution_count": 152,
   "id": "5176d237",
   "metadata": {},
   "outputs": [
    {
     "data": {
      "text/plain": [
       "range(1, 10)"
      ]
     },
     "execution_count": 152,
     "metadata": {},
     "output_type": "execute_result"
    }
   ],
   "source": [
    "range(1,10)"
   ]
  },
  {
   "cell_type": "code",
   "execution_count": 155,
   "id": "48dfd1a6",
   "metadata": {},
   "outputs": [],
   "source": [
    "def square_fun(n):\n",
    "    x = [i*i for i in range(n)]\n",
    "    return x"
   ]
  },
  {
   "cell_type": "code",
   "execution_count": 156,
   "id": "b3724e28",
   "metadata": {},
   "outputs": [
    {
     "data": {
      "text/plain": [
       "[0, 1, 4, 9, 16, 25, 36, 49, 64, 81]"
      ]
     },
     "execution_count": 156,
     "metadata": {},
     "output_type": "execute_result"
    }
   ],
   "source": [
    "square_fun(10)"
   ]
  },
  {
   "cell_type": "code",
   "execution_count": 157,
   "id": "50def73b",
   "metadata": {},
   "outputs": [],
   "source": [
    "def add_fun(a,b,c):\n",
    "    return a+b+c"
   ]
  },
  {
   "cell_type": "code",
   "execution_count": 158,
   "id": "879ec15e",
   "metadata": {},
   "outputs": [
    {
     "data": {
      "text/plain": [
       "6"
      ]
     },
     "execution_count": 158,
     "metadata": {},
     "output_type": "execute_result"
    }
   ],
   "source": [
    "add_fun(1,2,3)"
   ]
  },
  {
   "cell_type": "code",
   "execution_count": 159,
   "id": "5bb37e6c",
   "metadata": {},
   "outputs": [],
   "source": [
    "def mul_fun(a,b):\n",
    "    return a*b\n",
    "\n"
   ]
  },
  {
   "cell_type": "code",
   "execution_count": 160,
   "id": "0ce2bed6",
   "metadata": {},
   "outputs": [
    {
     "data": {
      "text/plain": [
       "800"
      ]
     },
     "execution_count": 160,
     "metadata": {},
     "output_type": "execute_result"
    }
   ],
   "source": [
    "mul_fun(10,80)"
   ]
  },
  {
   "cell_type": "code",
   "execution_count": 161,
   "id": "874b8d8e",
   "metadata": {},
   "outputs": [],
   "source": [
    "def genfb(n):\n",
    "    a=1\n",
    "    b=3\n",
    "    l=[]\n",
    "    for i in range(n):\n",
    "        l.append(a)\n",
    "        a, b = b, a+b\n",
    "    return l    \n",
    "        "
   ]
  },
  {
   "cell_type": "code",
   "execution_count": 162,
   "id": "ac90dc52",
   "metadata": {},
   "outputs": [
    {
     "data": {
      "text/plain": [
       "[1, 3, 4, 7, 11, 18, 29, 47, 76, 123]"
      ]
     },
     "execution_count": 162,
     "metadata": {},
     "output_type": "execute_result"
    }
   ],
   "source": [
    "genfb(10)"
   ]
  },
  {
   "cell_type": "code",
   "execution_count": 167,
   "id": "ab8b6fd8",
   "metadata": {},
   "outputs": [],
   "source": [
    "def genfb(n):\n",
    "    a=1\n",
    "    b=3\n",
    "   \n",
    "    for i in range(n):\n",
    "        \n",
    "        a, b = b, a+b\n",
    "    return b   "
   ]
  },
  {
   "cell_type": "code",
   "execution_count": 168,
   "id": "2ebfd71d",
   "metadata": {},
   "outputs": [
    {
     "data": {
      "text/plain": [
       "322"
      ]
     },
     "execution_count": 168,
     "metadata": {},
     "output_type": "execute_result"
    }
   ],
   "source": [
    "genfb(10)"
   ]
  },
  {
   "cell_type": "code",
   "execution_count": 180,
   "id": "fa8df174",
   "metadata": {},
   "outputs": [],
   "source": [
    "def genfb(n):\n",
    "    a=2\n",
    "    b=3\n",
    "    l=[]\n",
    "    for i in range(n):\n",
    "        l.append(a)\n",
    "        a,b = b, a+b\n",
    "    return l   \n",
    "    "
   ]
  },
  {
   "cell_type": "code",
   "execution_count": 181,
   "id": "3b43caff",
   "metadata": {},
   "outputs": [
    {
     "data": {
      "text/plain": [
       "[2, 3, 5, 8, 13, 21, 34, 55]"
      ]
     },
     "execution_count": 181,
     "metadata": {},
     "output_type": "execute_result"
    }
   ],
   "source": [
    "genfb(8)"
   ]
  },
  {
   "cell_type": "code",
   "execution_count": 182,
   "id": "08b848d0",
   "metadata": {},
   "outputs": [],
   "source": [
    "def genfb(n):\n",
    "    a=3\n",
    "    b=5\n",
    "    l= []\n",
    "    for i in range(n):\n",
    "        l.append(a)\n",
    "        a,b = b, a*b\n",
    "    return l    "
   ]
  },
  {
   "cell_type": "code",
   "execution_count": 183,
   "id": "2934a8ba",
   "metadata": {},
   "outputs": [
    {
     "data": {
      "text/plain": [
       "[3, 5, 15, 75, 1125]"
      ]
     },
     "execution_count": 183,
     "metadata": {},
     "output_type": "execute_result"
    }
   ],
   "source": [
    "genfb(5)"
   ]
  },
  {
   "cell_type": "code",
   "execution_count": 184,
   "id": "933bf5cc",
   "metadata": {},
   "outputs": [],
   "source": [
    "def genfb(n):\n",
    "    a=3\n",
    "    b=5\n",
    "    l= []\n",
    "    for i in range(n):\n",
    "        l.append(a)\n",
    "        a,b = b, a*b\n",
    "    yield l    "
   ]
  },
  {
   "cell_type": "code",
   "execution_count": 185,
   "id": "2345945d",
   "metadata": {},
   "outputs": [
    {
     "data": {
      "text/plain": [
       "<generator object genfb at 0x000001D22C1D1930>"
      ]
     },
     "execution_count": 185,
     "metadata": {},
     "output_type": "execute_result"
    }
   ],
   "source": [
    "genfb(10)"
   ]
  },
  {
   "cell_type": "code",
   "execution_count": 187,
   "id": "98e600d9",
   "metadata": {},
   "outputs": [
    {
     "name": "stdout",
     "output_type": "stream",
     "text": [
      "[3, 5, 15, 75, 1125, 84375, 94921875, 8009033203125, 760232448577880859375, 6088726922753266990184783935546875]\n"
     ]
    }
   ],
   "source": [
    "for i in genfb(10):\n",
    "    print(i)"
   ]
  },
  {
   "cell_type": "code",
   "execution_count": 202,
   "id": "bb89acf9",
   "metadata": {},
   "outputs": [],
   "source": [
    "## File operations\n",
    "\n",
    "f= open('mayuri.txt', 'w')"
   ]
  },
  {
   "cell_type": "code",
   "execution_count": 204,
   "id": "d24fde55",
   "metadata": {},
   "outputs": [
    {
     "name": "stdout",
     "output_type": "stream",
     "text": [
      " Volume in drive C has no label.\n",
      " Volume Serial Number is 5C78-4580\n",
      "\n",
      " Directory of C:\\Users\\SuperTech\n",
      "\n",
      "05/28/2023  03:22 PM    <DIR>          .\n",
      "05/28/2023  03:22 PM    <DIR>          ..\n",
      "05/27/2023  03:03 PM    <DIR>          .conda\n",
      "03/25/2022  01:28 PM                25 .condarc\n",
      "03/25/2022  01:27 PM    <DIR>          .continuum\n",
      "03/25/2022  01:49 AM    <DIR>          .dotnet\n",
      "05/02/2023  02:55 PM               126 .gitconfig\n",
      "05/01/2023  01:26 PM    <DIR>          .idea\n",
      "05/28/2023  12:03 PM    <DIR>          .ipynb_checkpoints\n",
      "03/25/2022  01:31 PM    <DIR>          .ipython\n",
      "05/28/2023  01:43 PM    <DIR>          .jupyter\n",
      "05/03/2023  11:05 PM    <DIR>          .matplotlib\n",
      "03/25/2022  04:47 AM    <DIR>          .templateengine\n",
      "04/30/2023  10:51 AM             6,937 -1.14-windows.xml\n",
      "03/16/2021  03:58 PM    <DIR>          3D Objects\n",
      "05/03/2023  01:30 AM           329,660 4- Pandas tutorial (1).ipynb\n",
      "05/04/2023  12:58 AM           254,034 4.5-Matplotlib.ipynb\n",
      "05/27/2023  01:22 PM    <DIR>          anaconda3\n",
      "05/28/2023  03:15 PM                 0 anbmjjjf\n",
      "05/20/2023  12:04 AM            46,612 conditional statement - if , elif, else.ipynb\n",
      "03/16/2021  03:58 PM    <DIR>          Contacts\n",
      "05/02/2023  06:45 PM               709 customer.csv\n",
      "03/02/2023  02:36 AM    <DIR>          Desktop\n",
      "05/09/2023  04:35 PM    <DIR>          Documents\n",
      "05/27/2023  02:18 PM    <DIR>          Downloads\n",
      "03/16/2021  03:58 PM    <DIR>          Favorites\n",
      "05/25/2023  08:54 PM            41,780 for loop practice  (1).ipynb\n",
      "05/02/2023  04:42 PM       139,596,576 GitHubDesktopSetup-x64.exe\n",
      "05/27/2023  11:11 AM            71,531 if else .ipynb\n",
      "05/01/2023  12:11 PM           624,080 install.log\n",
      "03/16/2021  03:58 PM    <DIR>          Links\n",
      "05/19/2023  09:28 PM            82,318 List , tuples , dict , set .ipynb\n",
      "05/01/2023  01:20 PM           808,509 Machine-Learning-in-90-days-3913bd6f5e1db16d66b425ac216c2212f3ba44ca.zip\n",
      "05/28/2023  03:24 PM                 0 mayuri.txt\n",
      "03/24/2023  04:54 PM    <DIR>          Microsoft\n",
      "03/16/2021  03:58 PM    <DIR>          Music\n",
      "05/28/2023  03:16 PM                 0 my_file.txt\n",
      "05/02/2023  04:58 PM            10,469 Numpy inbuilt functions by DS Mayuri.ipynb\n",
      "05/02/2023  07:29 PM            24,707 Numpy Tutorial by KN.ipynb\n",
      "05/28/2023  11:52 AM    <DIR>          OneDrive\n",
      "05/24/2023  02:28 PM           144,858 population and sample first code by krish naik.ipynb\n",
      "03/31/2023  06:01 PM       319,627,448 postgresql_15.exe\n",
      "05/28/2023  03:16 PM            34,339 practise iterables, iterator, map, file, reduce, filter .ipynb\n",
      "05/27/2023  03:07 PM    <DIR>          PycharmProjects\n",
      "05/22/2023  05:57 PM             3,687 Python assignment 1_mayuri.ipynb\n",
      "05/23/2023  06:12 PM             4,296 python assignment 2_ mayuri.ipynb\n",
      "05/23/2023  06:47 PM             3,874 python assignment 3_mayuri.ipynb\n",
      "05/27/2023  08:19 AM             2,461 python assignment 4_mayuri.ipynb\n",
      "05/22/2023  06:42 PM             2,792 python assignment5 _mayuri.ipynb\n",
      "04/04/2023  11:20 PM             1,268 Python first code\n",
      "05/02/2023  05:30 PM            29,349 Python List,Dictionary,Sets etc by KN.ipynb\n",
      "05/23/2023  11:59 PM            30,319 python notes.ipynb\n",
      "05/19/2023  02:19 AM            86,022 Python string basic  (2).ipynb\n",
      "05/19/2023  02:16 AM            11,215 python variable part 1 (1).ipynb\n",
      "05/25/2023  07:43 PM           110,232 Revision and task solving (1).ipynb\n",
      "03/16/2021  03:58 PM    <DIR>          Saved Games\n",
      "03/16/2021  03:58 PM    <DIR>          Searches\n",
      "03/25/2022  04:45 AM    <DIR>          source\n",
      "05/24/2023  02:18 PM            64,402 Stats_2nd_Day.ipynb\n",
      "05/28/2023  03:21 PM                 0 sudh.txt\n",
      "05/26/2023  01:26 AM            78,012 task 4 by sudhanshu.ipynb\n",
      "05/03/2023  11:10 PM            14,109 Test.png\n",
      "04/29/2023  08:48 PM                 0 untitled\n",
      "04/29/2023  08:48 PM    <DIR>          Untitled Folder\n",
      "05/02/2023  06:52 PM            21,197 Untitled.ipynb\n",
      "04/29/2023  08:48 PM                 0 untitled.txt\n",
      "04/29/2023  08:48 PM                 0 untitled1\n",
      "05/05/2022  02:35 PM    <DIR>          UrbanVPN\n",
      "05/27/2023  11:20 AM            56,215 very first imp python basics.ipynb\n",
      "05/27/2023  11:30 AM            41,438 very important set tuple and list by mayuri.ipynb\n",
      "03/16/2021  03:58 PM    <DIR>          Videos\n",
      "05/23/2023  05:35 PM            53,940 Week-1 20-21-May-2023.ipynb\n",
      "05/25/2023  09:40 PM           551,884 while_loop_and_basic_of_function_.ipynb\n",
      "              44 File(s)    462,871,430 bytes\n",
      "              29 Dir(s)  22,997,848,064 bytes free\n"
     ]
    }
   ],
   "source": [
    "ls"
   ]
  },
  {
   "cell_type": "code",
   "execution_count": 205,
   "id": "9cc99a18",
   "metadata": {},
   "outputs": [
    {
     "data": {
      "text/plain": [
       "35"
      ]
     },
     "execution_count": 205,
     "metadata": {},
     "output_type": "execute_result"
    }
   ],
   "source": [
    "f.write(\"this is my first ever file created \")"
   ]
  },
  {
   "cell_type": "code",
   "execution_count": 206,
   "id": "b0d81edc",
   "metadata": {},
   "outputs": [],
   "source": [
    "f.close()"
   ]
  },
  {
   "cell_type": "code",
   "execution_count": 207,
   "id": "18df25be",
   "metadata": {},
   "outputs": [
    {
     "name": "stdout",
     "output_type": "stream",
     "text": [
      " Volume in drive C has no label.\n",
      " Volume Serial Number is 5C78-4580\n",
      "\n",
      " Directory of C:\\Users\\SuperTech\n",
      "\n",
      "05/28/2023  03:22 PM    <DIR>          .\n",
      "05/28/2023  03:22 PM    <DIR>          ..\n",
      "05/27/2023  03:03 PM    <DIR>          .conda\n",
      "03/25/2022  01:28 PM                25 .condarc\n",
      "03/25/2022  01:27 PM    <DIR>          .continuum\n",
      "03/25/2022  01:49 AM    <DIR>          .dotnet\n",
      "05/02/2023  02:55 PM               126 .gitconfig\n",
      "05/01/2023  01:26 PM    <DIR>          .idea\n",
      "05/28/2023  12:03 PM    <DIR>          .ipynb_checkpoints\n",
      "03/25/2022  01:31 PM    <DIR>          .ipython\n",
      "05/28/2023  01:43 PM    <DIR>          .jupyter\n",
      "05/03/2023  11:05 PM    <DIR>          .matplotlib\n",
      "03/25/2022  04:47 AM    <DIR>          .templateengine\n",
      "04/30/2023  10:51 AM             6,937 -1.14-windows.xml\n",
      "03/16/2021  03:58 PM    <DIR>          3D Objects\n",
      "05/03/2023  01:30 AM           329,660 4- Pandas tutorial (1).ipynb\n",
      "05/04/2023  12:58 AM           254,034 4.5-Matplotlib.ipynb\n",
      "05/27/2023  01:22 PM    <DIR>          anaconda3\n",
      "05/28/2023  03:15 PM                 0 anbmjjjf\n",
      "05/20/2023  12:04 AM            46,612 conditional statement - if , elif, else.ipynb\n",
      "03/16/2021  03:58 PM    <DIR>          Contacts\n",
      "05/02/2023  06:45 PM               709 customer.csv\n",
      "03/02/2023  02:36 AM    <DIR>          Desktop\n",
      "05/09/2023  04:35 PM    <DIR>          Documents\n",
      "05/27/2023  02:18 PM    <DIR>          Downloads\n",
      "03/16/2021  03:58 PM    <DIR>          Favorites\n",
      "05/25/2023  08:54 PM            41,780 for loop practice  (1).ipynb\n",
      "05/02/2023  04:42 PM       139,596,576 GitHubDesktopSetup-x64.exe\n",
      "05/27/2023  11:11 AM            71,531 if else .ipynb\n",
      "05/01/2023  12:11 PM           624,080 install.log\n",
      "03/16/2021  03:58 PM    <DIR>          Links\n",
      "05/19/2023  09:28 PM            82,318 List , tuples , dict , set .ipynb\n",
      "05/01/2023  01:20 PM           808,509 Machine-Learning-in-90-days-3913bd6f5e1db16d66b425ac216c2212f3ba44ca.zip\n",
      "05/28/2023  03:26 PM                70 mayuri.txt\n",
      "03/24/2023  04:54 PM    <DIR>          Microsoft\n",
      "03/16/2021  03:58 PM    <DIR>          Music\n",
      "05/28/2023  03:16 PM                 0 my_file.txt\n",
      "05/02/2023  04:58 PM            10,469 Numpy inbuilt functions by DS Mayuri.ipynb\n",
      "05/02/2023  07:29 PM            24,707 Numpy Tutorial by KN.ipynb\n",
      "05/28/2023  11:52 AM    <DIR>          OneDrive\n",
      "05/24/2023  02:28 PM           144,858 population and sample first code by krish naik.ipynb\n",
      "03/31/2023  06:01 PM       319,627,448 postgresql_15.exe\n",
      "05/28/2023  03:16 PM            34,339 practise iterables, iterator, map, file, reduce, filter .ipynb\n",
      "05/27/2023  03:07 PM    <DIR>          PycharmProjects\n",
      "05/22/2023  05:57 PM             3,687 Python assignment 1_mayuri.ipynb\n",
      "05/23/2023  06:12 PM             4,296 python assignment 2_ mayuri.ipynb\n",
      "05/23/2023  06:47 PM             3,874 python assignment 3_mayuri.ipynb\n",
      "05/27/2023  08:19 AM             2,461 python assignment 4_mayuri.ipynb\n",
      "05/22/2023  06:42 PM             2,792 python assignment5 _mayuri.ipynb\n",
      "04/04/2023  11:20 PM             1,268 Python first code\n",
      "05/02/2023  05:30 PM            29,349 Python List,Dictionary,Sets etc by KN.ipynb\n",
      "05/23/2023  11:59 PM            30,319 python notes.ipynb\n",
      "05/19/2023  02:19 AM            86,022 Python string basic  (2).ipynb\n",
      "05/19/2023  02:16 AM            11,215 python variable part 1 (1).ipynb\n",
      "05/25/2023  07:43 PM           110,232 Revision and task solving (1).ipynb\n",
      "03/16/2021  03:58 PM    <DIR>          Saved Games\n",
      "03/16/2021  03:58 PM    <DIR>          Searches\n",
      "03/25/2022  04:45 AM    <DIR>          source\n",
      "05/24/2023  02:18 PM            64,402 Stats_2nd_Day.ipynb\n",
      "05/28/2023  03:21 PM                 0 sudh.txt\n",
      "05/26/2023  01:26 AM            78,012 task 4 by sudhanshu.ipynb\n",
      "05/03/2023  11:10 PM            14,109 Test.png\n",
      "04/29/2023  08:48 PM                 0 untitled\n",
      "04/29/2023  08:48 PM    <DIR>          Untitled Folder\n",
      "05/02/2023  06:52 PM            21,197 Untitled.ipynb\n",
      "04/29/2023  08:48 PM                 0 untitled.txt\n",
      "04/29/2023  08:48 PM                 0 untitled1\n",
      "05/05/2022  02:35 PM    <DIR>          UrbanVPN\n",
      "05/27/2023  11:20 AM            56,215 very first imp python basics.ipynb\n",
      "05/27/2023  11:30 AM            41,438 very important set tuple and list by mayuri.ipynb\n",
      "03/16/2021  03:58 PM    <DIR>          Videos\n",
      "05/23/2023  05:35 PM            53,940 Week-1 20-21-May-2023.ipynb\n",
      "05/25/2023  09:40 PM           551,884 while_loop_and_basic_of_function_.ipynb\n",
      "              44 File(s)    462,871,500 bytes\n",
      "              29 Dir(s)  22,995,636,224 bytes free\n"
     ]
    }
   ],
   "source": [
    "ls"
   ]
  },
  {
   "cell_type": "code",
   "execution_count": 208,
   "id": "c6bb58e0",
   "metadata": {},
   "outputs": [],
   "source": [
    "f = (\"mayuri.txt\", \"r\")"
   ]
  },
  {
   "cell_type": "code",
   "execution_count": 211,
   "id": "5a906032",
   "metadata": {},
   "outputs": [],
   "source": [
    "f1= open(\"test.txt\", \"w\")"
   ]
  },
  {
   "cell_type": "code",
   "execution_count": 212,
   "id": "178c01c7",
   "metadata": {},
   "outputs": [
    {
     "data": {
      "text/plain": [
       "17"
      ]
     },
     "execution_count": 212,
     "metadata": {},
     "output_type": "execute_result"
    }
   ],
   "source": [
    "f1.write(\"this is text file\")"
   ]
  },
  {
   "cell_type": "code",
   "execution_count": 213,
   "id": "47cef21a",
   "metadata": {},
   "outputs": [],
   "source": [
    "f1.close()"
   ]
  },
  {
   "cell_type": "code",
   "execution_count": 214,
   "id": "870ead50",
   "metadata": {},
   "outputs": [
    {
     "name": "stdout",
     "output_type": "stream",
     "text": [
      " Volume in drive C has no label.\n",
      " Volume Serial Number is 5C78-4580\n",
      "\n",
      " Directory of C:\\Users\\SuperTech\n",
      "\n",
      "05/28/2023  03:35 PM    <DIR>          .\n",
      "05/28/2023  03:35 PM    <DIR>          ..\n",
      "05/27/2023  03:03 PM    <DIR>          .conda\n",
      "03/25/2022  01:28 PM                25 .condarc\n",
      "03/25/2022  01:27 PM    <DIR>          .continuum\n",
      "03/25/2022  01:49 AM    <DIR>          .dotnet\n",
      "05/02/2023  02:55 PM               126 .gitconfig\n",
      "05/01/2023  01:26 PM    <DIR>          .idea\n",
      "05/28/2023  12:03 PM    <DIR>          .ipynb_checkpoints\n",
      "03/25/2022  01:31 PM    <DIR>          .ipython\n",
      "05/28/2023  01:43 PM    <DIR>          .jupyter\n",
      "05/03/2023  11:05 PM    <DIR>          .matplotlib\n",
      "03/25/2022  04:47 AM    <DIR>          .templateengine\n",
      "04/30/2023  10:51 AM             6,937 -1.14-windows.xml\n",
      "03/16/2021  03:58 PM    <DIR>          3D Objects\n",
      "05/03/2023  01:30 AM           329,660 4- Pandas tutorial (1).ipynb\n",
      "05/04/2023  12:58 AM           254,034 4.5-Matplotlib.ipynb\n",
      "05/27/2023  01:22 PM    <DIR>          anaconda3\n",
      "05/28/2023  03:15 PM                 0 anbmjjjf\n",
      "05/20/2023  12:04 AM            46,612 conditional statement - if , elif, else.ipynb\n",
      "03/16/2021  03:58 PM    <DIR>          Contacts\n",
      "05/02/2023  06:45 PM               709 customer.csv\n",
      "03/02/2023  02:36 AM    <DIR>          Desktop\n",
      "05/09/2023  04:35 PM    <DIR>          Documents\n",
      "05/27/2023  02:18 PM    <DIR>          Downloads\n",
      "03/16/2021  03:58 PM    <DIR>          Favorites\n",
      "05/25/2023  08:54 PM            41,780 for loop practice  (1).ipynb\n",
      "05/02/2023  04:42 PM       139,596,576 GitHubDesktopSetup-x64.exe\n",
      "05/27/2023  11:11 AM            71,531 if else .ipynb\n",
      "05/01/2023  12:11 PM           624,080 install.log\n",
      "03/16/2021  03:58 PM    <DIR>          Links\n",
      "05/19/2023  09:28 PM            82,318 List , tuples , dict , set .ipynb\n",
      "05/01/2023  01:20 PM           808,509 Machine-Learning-in-90-days-3913bd6f5e1db16d66b425ac216c2212f3ba44ca.zip\n",
      "05/28/2023  03:26 PM                70 mayuri.txt\n",
      "03/24/2023  04:54 PM    <DIR>          Microsoft\n",
      "03/16/2021  03:58 PM    <DIR>          Music\n",
      "05/28/2023  03:16 PM                 0 my_file.txt\n",
      "05/02/2023  04:58 PM            10,469 Numpy inbuilt functions by DS Mayuri.ipynb\n",
      "05/02/2023  07:29 PM            24,707 Numpy Tutorial by KN.ipynb\n",
      "05/28/2023  11:52 AM    <DIR>          OneDrive\n",
      "05/24/2023  02:28 PM           144,858 population and sample first code by krish naik.ipynb\n",
      "03/31/2023  06:01 PM       319,627,448 postgresql_15.exe\n",
      "05/28/2023  03:16 PM            34,339 practise iterables, iterator, map, file, reduce, filter .ipynb\n",
      "05/27/2023  03:07 PM    <DIR>          PycharmProjects\n",
      "05/22/2023  05:57 PM             3,687 Python assignment 1_mayuri.ipynb\n",
      "05/23/2023  06:12 PM             4,296 python assignment 2_ mayuri.ipynb\n",
      "05/23/2023  06:47 PM             3,874 python assignment 3_mayuri.ipynb\n",
      "05/27/2023  08:19 AM             2,461 python assignment 4_mayuri.ipynb\n",
      "05/22/2023  06:42 PM             2,792 python assignment5 _mayuri.ipynb\n",
      "04/04/2023  11:20 PM             1,268 Python first code\n",
      "05/02/2023  05:30 PM            29,349 Python List,Dictionary,Sets etc by KN.ipynb\n",
      "05/23/2023  11:59 PM            30,319 python notes.ipynb\n",
      "05/19/2023  02:19 AM            86,022 Python string basic  (2).ipynb\n",
      "05/19/2023  02:16 AM            11,215 python variable part 1 (1).ipynb\n",
      "05/25/2023  07:43 PM           110,232 Revision and task solving (1).ipynb\n",
      "03/16/2021  03:58 PM    <DIR>          Saved Games\n",
      "03/16/2021  03:58 PM    <DIR>          Searches\n",
      "03/25/2022  04:45 AM    <DIR>          source\n",
      "05/24/2023  02:18 PM            64,402 Stats_2nd_Day.ipynb\n",
      "05/28/2023  03:21 PM                 0 sudh.txt\n",
      "05/26/2023  01:26 AM            78,012 task 4 by sudhanshu.ipynb\n",
      "05/03/2023  11:10 PM            14,109 Test.png\n",
      "05/28/2023  03:35 PM                17 test.txt\n",
      "04/29/2023  08:48 PM                 0 untitled\n",
      "04/29/2023  08:48 PM    <DIR>          Untitled Folder\n",
      "05/02/2023  06:52 PM            21,197 Untitled.ipynb\n",
      "04/29/2023  08:48 PM                 0 untitled.txt\n",
      "04/29/2023  08:48 PM                 0 untitled1\n",
      "05/05/2022  02:35 PM    <DIR>          UrbanVPN\n",
      "05/27/2023  11:20 AM            56,215 very first imp python basics.ipynb\n",
      "05/27/2023  11:30 AM            41,438 very important set tuple and list by mayuri.ipynb\n",
      "03/16/2021  03:58 PM    <DIR>          Videos\n",
      "05/23/2023  05:35 PM            53,940 Week-1 20-21-May-2023.ipynb\n",
      "05/25/2023  09:40 PM           551,884 while_loop_and_basic_of_function_.ipynb\n",
      "              45 File(s)    462,871,517 bytes\n",
      "              29 Dir(s)  22,995,517,440 bytes free\n"
     ]
    }
   ],
   "source": [
    "ls"
   ]
  },
  {
   "cell_type": "code",
   "execution_count": 231,
   "id": "3f37c1be",
   "metadata": {},
   "outputs": [],
   "source": [
    "f1 = open(\"list.txt\", \"w\")"
   ]
  },
  {
   "cell_type": "code",
   "execution_count": 232,
   "id": "8868a4fd",
   "metadata": {},
   "outputs": [],
   "source": [
    "l = [1,5,7,8,5,9,4,1,32,5]"
   ]
  },
  {
   "cell_type": "code",
   "execution_count": 233,
   "id": "34b2b9dc",
   "metadata": {},
   "outputs": [
    {
     "data": {
      "text/plain": [
       "31"
      ]
     },
     "execution_count": 233,
     "metadata": {},
     "output_type": "execute_result"
    }
   ],
   "source": [
    "f1.write(str(l))"
   ]
  },
  {
   "cell_type": "code",
   "execution_count": 234,
   "id": "00751770",
   "metadata": {},
   "outputs": [],
   "source": [
    "f1.close()"
   ]
  },
  {
   "cell_type": "code",
   "execution_count": 235,
   "id": "4be9416c",
   "metadata": {},
   "outputs": [
    {
     "name": "stdout",
     "output_type": "stream",
     "text": [
      " Volume in drive C has no label.\n",
      " Volume Serial Number is 5C78-4580\n",
      "\n",
      " Directory of C:\\Users\\SuperTech\n",
      "\n",
      "05/28/2023  03:38 PM    <DIR>          .\n",
      "05/28/2023  03:38 PM    <DIR>          ..\n",
      "05/27/2023  03:03 PM    <DIR>          .conda\n",
      "03/25/2022  01:28 PM                25 .condarc\n",
      "03/25/2022  01:27 PM    <DIR>          .continuum\n",
      "03/25/2022  01:49 AM    <DIR>          .dotnet\n",
      "05/02/2023  02:55 PM               126 .gitconfig\n",
      "05/01/2023  01:26 PM    <DIR>          .idea\n",
      "05/28/2023  12:03 PM    <DIR>          .ipynb_checkpoints\n",
      "03/25/2022  01:31 PM    <DIR>          .ipython\n",
      "05/28/2023  01:43 PM    <DIR>          .jupyter\n",
      "05/03/2023  11:05 PM    <DIR>          .matplotlib\n",
      "03/25/2022  04:47 AM    <DIR>          .templateengine\n",
      "04/30/2023  10:51 AM             6,937 -1.14-windows.xml\n",
      "03/16/2021  03:58 PM    <DIR>          3D Objects\n",
      "05/03/2023  01:30 AM           329,660 4- Pandas tutorial (1).ipynb\n",
      "05/04/2023  12:58 AM           254,034 4.5-Matplotlib.ipynb\n",
      "05/27/2023  01:22 PM    <DIR>          anaconda3\n",
      "05/28/2023  03:15 PM                 0 anbmjjjf\n",
      "05/20/2023  12:04 AM            46,612 conditional statement - if , elif, else.ipynb\n",
      "03/16/2021  03:58 PM    <DIR>          Contacts\n",
      "05/02/2023  06:45 PM               709 customer.csv\n",
      "03/02/2023  02:36 AM    <DIR>          Desktop\n",
      "05/09/2023  04:35 PM    <DIR>          Documents\n",
      "05/27/2023  02:18 PM    <DIR>          Downloads\n",
      "03/16/2021  03:58 PM    <DIR>          Favorites\n",
      "05/25/2023  08:54 PM            41,780 for loop practice  (1).ipynb\n",
      "05/02/2023  04:42 PM       139,596,576 GitHubDesktopSetup-x64.exe\n",
      "05/27/2023  11:11 AM            71,531 if else .ipynb\n",
      "05/01/2023  12:11 PM           624,080 install.log\n",
      "03/16/2021  03:58 PM    <DIR>          Links\n",
      "05/19/2023  09:28 PM            82,318 List , tuples , dict , set .ipynb\n",
      "05/28/2023  03:42 PM                31 list.txt\n",
      "05/01/2023  01:20 PM           808,509 Machine-Learning-in-90-days-3913bd6f5e1db16d66b425ac216c2212f3ba44ca.zip\n",
      "05/28/2023  03:26 PM                70 mayuri.txt\n",
      "03/24/2023  04:54 PM    <DIR>          Microsoft\n",
      "03/16/2021  03:58 PM    <DIR>          Music\n",
      "05/28/2023  03:16 PM                 0 my_file.txt\n",
      "05/02/2023  04:58 PM            10,469 Numpy inbuilt functions by DS Mayuri.ipynb\n",
      "05/02/2023  07:29 PM            24,707 Numpy Tutorial by KN.ipynb\n",
      "05/28/2023  11:52 AM    <DIR>          OneDrive\n",
      "05/24/2023  02:28 PM           144,858 population and sample first code by krish naik.ipynb\n",
      "03/31/2023  06:01 PM       319,627,448 postgresql_15.exe\n",
      "05/28/2023  03:36 PM            52,634 practise iterables, iterator, map, file, reduce, filter .ipynb\n",
      "05/27/2023  03:07 PM    <DIR>          PycharmProjects\n",
      "05/22/2023  05:57 PM             3,687 Python assignment 1_mayuri.ipynb\n",
      "05/23/2023  06:12 PM             4,296 python assignment 2_ mayuri.ipynb\n",
      "05/23/2023  06:47 PM             3,874 python assignment 3_mayuri.ipynb\n",
      "05/27/2023  08:19 AM             2,461 python assignment 4_mayuri.ipynb\n",
      "05/22/2023  06:42 PM             2,792 python assignment5 _mayuri.ipynb\n",
      "04/04/2023  11:20 PM             1,268 Python first code\n",
      "05/02/2023  05:30 PM            29,349 Python List,Dictionary,Sets etc by KN.ipynb\n",
      "05/23/2023  11:59 PM            30,319 python notes.ipynb\n",
      "05/19/2023  02:19 AM            86,022 Python string basic  (2).ipynb\n",
      "05/19/2023  02:16 AM            11,215 python variable part 1 (1).ipynb\n",
      "05/25/2023  07:43 PM           110,232 Revision and task solving (1).ipynb\n",
      "03/16/2021  03:58 PM    <DIR>          Saved Games\n",
      "03/16/2021  03:58 PM    <DIR>          Searches\n",
      "03/25/2022  04:45 AM    <DIR>          source\n",
      "05/24/2023  02:18 PM            64,402 Stats_2nd_Day.ipynb\n",
      "05/28/2023  03:21 PM                 0 sudh.txt\n",
      "05/26/2023  01:26 AM            78,012 task 4 by sudhanshu.ipynb\n",
      "05/03/2023  11:10 PM            14,109 Test.png\n",
      "05/28/2023  03:35 PM                17 test.txt\n",
      "04/29/2023  08:48 PM                 0 untitled\n",
      "04/29/2023  08:48 PM    <DIR>          Untitled Folder\n",
      "05/02/2023  06:52 PM            21,197 Untitled.ipynb\n",
      "04/29/2023  08:48 PM                 0 untitled.txt\n",
      "04/29/2023  08:48 PM                 0 untitled1\n",
      "05/05/2022  02:35 PM    <DIR>          UrbanVPN\n",
      "05/27/2023  11:20 AM            56,215 very first imp python basics.ipynb\n",
      "05/27/2023  11:30 AM            41,438 very important set tuple and list by mayuri.ipynb\n",
      "03/16/2021  03:58 PM    <DIR>          Videos\n",
      "05/23/2023  05:35 PM            53,940 Week-1 20-21-May-2023.ipynb\n",
      "05/25/2023  09:40 PM           551,884 while_loop_and_basic_of_function_.ipynb\n",
      "              46 File(s)    462,889,843 bytes\n",
      "              29 Dir(s)  22,995,312,640 bytes free\n"
     ]
    }
   ],
   "source": [
    "ls"
   ]
  },
  {
   "cell_type": "code",
   "execution_count": 236,
   "id": "b3bc8a51",
   "metadata": {},
   "outputs": [
    {
     "name": "stdout",
     "output_type": "stream",
     "text": [
      "Writing test5.txt\n"
     ]
    }
   ],
   "source": [
    "%%writefile test5.txt\n",
    "this is my file in different way "
   ]
  },
  {
   "cell_type": "code",
   "execution_count": 237,
   "id": "3bae2ec7",
   "metadata": {},
   "outputs": [
    {
     "name": "stdout",
     "output_type": "stream",
     "text": [
      " Volume in drive C has no label.\n",
      " Volume Serial Number is 5C78-4580\n",
      "\n",
      " Directory of C:\\Users\\SuperTech\n",
      "\n",
      "05/28/2023  03:56 PM    <DIR>          .\n",
      "05/28/2023  03:56 PM    <DIR>          ..\n",
      "05/27/2023  03:03 PM    <DIR>          .conda\n",
      "03/25/2022  01:28 PM                25 .condarc\n",
      "03/25/2022  01:27 PM    <DIR>          .continuum\n",
      "03/25/2022  01:49 AM    <DIR>          .dotnet\n",
      "05/02/2023  02:55 PM               126 .gitconfig\n",
      "05/01/2023  01:26 PM    <DIR>          .idea\n",
      "05/28/2023  12:03 PM    <DIR>          .ipynb_checkpoints\n",
      "03/25/2022  01:31 PM    <DIR>          .ipython\n",
      "05/28/2023  01:43 PM    <DIR>          .jupyter\n",
      "05/03/2023  11:05 PM    <DIR>          .matplotlib\n",
      "03/25/2022  04:47 AM    <DIR>          .templateengine\n",
      "04/30/2023  10:51 AM             6,937 -1.14-windows.xml\n",
      "03/16/2021  03:58 PM    <DIR>          3D Objects\n",
      "05/03/2023  01:30 AM           329,660 4- Pandas tutorial (1).ipynb\n",
      "05/04/2023  12:58 AM           254,034 4.5-Matplotlib.ipynb\n",
      "05/27/2023  01:22 PM    <DIR>          anaconda3\n",
      "05/28/2023  03:15 PM                 0 anbmjjjf\n",
      "05/20/2023  12:04 AM            46,612 conditional statement - if , elif, else.ipynb\n",
      "03/16/2021  03:58 PM    <DIR>          Contacts\n",
      "05/02/2023  06:45 PM               709 customer.csv\n",
      "03/02/2023  02:36 AM    <DIR>          Desktop\n",
      "05/09/2023  04:35 PM    <DIR>          Documents\n",
      "05/27/2023  02:18 PM    <DIR>          Downloads\n",
      "03/16/2021  03:58 PM    <DIR>          Favorites\n",
      "05/25/2023  08:54 PM            41,780 for loop practice  (1).ipynb\n",
      "05/02/2023  04:42 PM       139,596,576 GitHubDesktopSetup-x64.exe\n",
      "05/27/2023  11:11 AM            71,531 if else .ipynb\n",
      "05/01/2023  12:11 PM           624,080 install.log\n",
      "03/16/2021  03:58 PM    <DIR>          Links\n",
      "05/19/2023  09:28 PM            82,318 List , tuples , dict , set .ipynb\n",
      "05/28/2023  03:42 PM                31 list.txt\n",
      "05/01/2023  01:20 PM           808,509 Machine-Learning-in-90-days-3913bd6f5e1db16d66b425ac216c2212f3ba44ca.zip\n",
      "05/28/2023  03:26 PM                70 mayuri.txt\n",
      "03/24/2023  04:54 PM    <DIR>          Microsoft\n",
      "03/16/2021  03:58 PM    <DIR>          Music\n",
      "05/28/2023  03:16 PM                 0 my_file.txt\n",
      "05/02/2023  04:58 PM            10,469 Numpy inbuilt functions by DS Mayuri.ipynb\n",
      "05/02/2023  07:29 PM            24,707 Numpy Tutorial by KN.ipynb\n",
      "05/28/2023  11:52 AM    <DIR>          OneDrive\n",
      "05/24/2023  02:28 PM           144,858 population and sample first code by krish naik.ipynb\n",
      "03/31/2023  06:01 PM       319,627,448 postgresql_15.exe\n",
      "05/28/2023  03:56 PM            59,275 practise iterables, iterator, map, file, reduce, filter .ipynb\n",
      "05/27/2023  03:07 PM    <DIR>          PycharmProjects\n",
      "05/22/2023  05:57 PM             3,687 Python assignment 1_mayuri.ipynb\n",
      "05/23/2023  06:12 PM             4,296 python assignment 2_ mayuri.ipynb\n",
      "05/23/2023  06:47 PM             3,874 python assignment 3_mayuri.ipynb\n",
      "05/27/2023  08:19 AM             2,461 python assignment 4_mayuri.ipynb\n",
      "05/22/2023  06:42 PM             2,792 python assignment5 _mayuri.ipynb\n",
      "04/04/2023  11:20 PM             1,268 Python first code\n",
      "05/02/2023  05:30 PM            29,349 Python List,Dictionary,Sets etc by KN.ipynb\n",
      "05/23/2023  11:59 PM            30,319 python notes.ipynb\n",
      "05/19/2023  02:19 AM            86,022 Python string basic  (2).ipynb\n",
      "05/19/2023  02:16 AM            11,215 python variable part 1 (1).ipynb\n",
      "05/25/2023  07:43 PM           110,232 Revision and task solving (1).ipynb\n",
      "03/16/2021  03:58 PM    <DIR>          Saved Games\n",
      "03/16/2021  03:58 PM    <DIR>          Searches\n",
      "03/25/2022  04:45 AM    <DIR>          source\n",
      "05/24/2023  02:18 PM            64,402 Stats_2nd_Day.ipynb\n",
      "05/28/2023  03:21 PM                 0 sudh.txt\n",
      "05/26/2023  01:26 AM            78,012 task 4 by sudhanshu.ipynb\n",
      "05/03/2023  11:10 PM            14,109 Test.png\n",
      "05/28/2023  03:35 PM                17 test.txt\n",
      "05/28/2023  03:56 PM                35 test5.txt\n",
      "04/29/2023  08:48 PM                 0 untitled\n",
      "04/29/2023  08:48 PM    <DIR>          Untitled Folder\n",
      "05/02/2023  06:52 PM            21,197 Untitled.ipynb\n",
      "04/29/2023  08:48 PM                 0 untitled.txt\n",
      "04/29/2023  08:48 PM                 0 untitled1\n",
      "05/05/2022  02:35 PM    <DIR>          UrbanVPN\n",
      "05/27/2023  11:20 AM            56,215 very first imp python basics.ipynb\n",
      "05/27/2023  11:30 AM            41,438 very important set tuple and list by mayuri.ipynb\n",
      "03/16/2021  03:58 PM    <DIR>          Videos\n",
      "05/23/2023  05:35 PM            53,940 Week-1 20-21-May-2023.ipynb\n",
      "05/25/2023  09:40 PM           551,884 while_loop_and_basic_of_function_.ipynb\n",
      "              47 File(s)    462,896,519 bytes\n",
      "              29 Dir(s)  22,992,232,448 bytes free\n"
     ]
    }
   ],
   "source": [
    "ls"
   ]
  },
  {
   "cell_type": "code",
   "execution_count": 239,
   "id": "e50cf617",
   "metadata": {},
   "outputs": [
    {
     "name": "stdout",
     "output_type": "stream",
     "text": [
      "Overwriting test2.txt\n"
     ]
    }
   ],
   "source": [
    "%%writefile test2.txt\n",
    "this is my file in different way \n",
    "this is my file in different way \n",
    "this is my file in different way \n",
    "'l'"
   ]
  },
  {
   "cell_type": "code",
   "execution_count": 241,
   "id": "5f845841",
   "metadata": {},
   "outputs": [],
   "source": [
    "f = open(\"test2.txt\")"
   ]
  },
  {
   "cell_type": "code",
   "execution_count": 242,
   "id": "331d4e13",
   "metadata": {},
   "outputs": [
    {
     "data": {
      "text/plain": [
       "\"this is my file in different way \\nthis is my file in different way \\nthis is my file in different way \\n'l'\\n\""
      ]
     },
     "execution_count": 242,
     "metadata": {},
     "output_type": "execute_result"
    }
   ],
   "source": [
    "f.read()"
   ]
  },
  {
   "cell_type": "code",
   "execution_count": 243,
   "id": "f78631ff",
   "metadata": {},
   "outputs": [
    {
     "data": {
      "text/plain": [
       "''"
      ]
     },
     "execution_count": 243,
     "metadata": {},
     "output_type": "execute_result"
    }
   ],
   "source": [
    "f.read()"
   ]
  },
  {
   "cell_type": "code",
   "execution_count": 250,
   "id": "a1e0e8b8",
   "metadata": {},
   "outputs": [
    {
     "data": {
      "text/plain": [
       "0"
      ]
     },
     "execution_count": 250,
     "metadata": {},
     "output_type": "execute_result"
    }
   ],
   "source": [
    "f.seek(0)"
   ]
  },
  {
   "cell_type": "code",
   "execution_count": 251,
   "id": "33c1df5f",
   "metadata": {},
   "outputs": [
    {
     "data": {
      "text/plain": [
       "\"this is my file in different way \\nthis is my file in different way \\nthis is my file in different way \\n'l'\\n\""
      ]
     },
     "execution_count": 251,
     "metadata": {},
     "output_type": "execute_result"
    }
   ],
   "source": [
    "f.read()"
   ]
  },
  {
   "cell_type": "code",
   "execution_count": 246,
   "id": "4ce295d2",
   "metadata": {},
   "outputs": [
    {
     "data": {
      "text/plain": [
       "''"
      ]
     },
     "execution_count": 246,
     "metadata": {},
     "output_type": "execute_result"
    }
   ],
   "source": [
    "f.read()"
   ]
  },
  {
   "cell_type": "code",
   "execution_count": 247,
   "id": "98200618",
   "metadata": {},
   "outputs": [
    {
     "data": {
      "text/plain": [
       "15"
      ]
     },
     "execution_count": 247,
     "metadata": {},
     "output_type": "execute_result"
    }
   ],
   "source": [
    "f.seek(15)"
   ]
  },
  {
   "cell_type": "code",
   "execution_count": 248,
   "id": "34d0fbe9",
   "metadata": {},
   "outputs": [
    {
     "data": {
      "text/plain": [
       "\" in different way \\nthis is my file in different way \\nthis is my file in different way \\n'l'\\n\""
      ]
     },
     "execution_count": 248,
     "metadata": {},
     "output_type": "execute_result"
    }
   ],
   "source": [
    "f.read()"
   ]
  },
  {
   "cell_type": "code",
   "execution_count": 252,
   "id": "b6d908fc",
   "metadata": {},
   "outputs": [
    {
     "data": {
      "text/plain": [
       "110"
      ]
     },
     "execution_count": 252,
     "metadata": {},
     "output_type": "execute_result"
    }
   ],
   "source": [
    "f.tell()"
   ]
  },
  {
   "cell_type": "code",
   "execution_count": 253,
   "id": "4e8ec7d7",
   "metadata": {},
   "outputs": [],
   "source": [
    "f = open(\"test2.txt\")"
   ]
  },
  {
   "cell_type": "code",
   "execution_count": 254,
   "id": "b73223d4",
   "metadata": {},
   "outputs": [
    {
     "data": {
      "text/plain": [
       "0"
      ]
     },
     "execution_count": 254,
     "metadata": {},
     "output_type": "execute_result"
    }
   ],
   "source": [
    "f.tell()"
   ]
  },
  {
   "cell_type": "code",
   "execution_count": 255,
   "id": "3cb4e5b9",
   "metadata": {},
   "outputs": [
    {
     "data": {
      "text/plain": [
       "\"this is my file in different way \\nthis is my file in different way \\nthis is my file in different way \\n'l'\\n\""
      ]
     },
     "execution_count": 255,
     "metadata": {},
     "output_type": "execute_result"
    }
   ],
   "source": [
    "f.read()"
   ]
  },
  {
   "cell_type": "code",
   "execution_count": 256,
   "id": "837ed830",
   "metadata": {},
   "outputs": [
    {
     "data": {
      "text/plain": [
       "110"
      ]
     },
     "execution_count": 256,
     "metadata": {},
     "output_type": "execute_result"
    }
   ],
   "source": [
    "f.tell()"
   ]
  },
  {
   "cell_type": "code",
   "execution_count": 257,
   "id": "2dbf6aec",
   "metadata": {},
   "outputs": [
    {
     "data": {
      "text/plain": [
       "''"
      ]
     },
     "execution_count": 257,
     "metadata": {},
     "output_type": "execute_result"
    }
   ],
   "source": [
    "f.readline()"
   ]
  },
  {
   "cell_type": "code",
   "execution_count": 258,
   "id": "e05d5713",
   "metadata": {},
   "outputs": [],
   "source": [
    "f = open(\"test2.txt\")"
   ]
  },
  {
   "cell_type": "code",
   "execution_count": 259,
   "id": "1068887d",
   "metadata": {},
   "outputs": [
    {
     "data": {
      "text/plain": [
       "'this is my file in different way \\n'"
      ]
     },
     "execution_count": 259,
     "metadata": {},
     "output_type": "execute_result"
    }
   ],
   "source": [
    "f.readline()"
   ]
  },
  {
   "cell_type": "code",
   "execution_count": 260,
   "id": "2c0785b3",
   "metadata": {},
   "outputs": [
    {
     "data": {
      "text/plain": [
       "['this is my file in different way \\n',\n",
       " 'this is my file in different way \\n',\n",
       " \"'l'\\n\"]"
      ]
     },
     "execution_count": 260,
     "metadata": {},
     "output_type": "execute_result"
    }
   ],
   "source": [
    "f.readlines()"
   ]
  },
  {
   "cell_type": "code",
   "execution_count": 262,
   "id": "5f8f2b5c",
   "metadata": {},
   "outputs": [],
   "source": [
    "f = open(\"test2.txt\", \"w\")"
   ]
  },
  {
   "cell_type": "code",
   "execution_count": 263,
   "id": "da43bc0b",
   "metadata": {},
   "outputs": [
    {
     "data": {
      "text/plain": [
       "98"
      ]
     },
     "execution_count": 263,
     "metadata": {},
     "output_type": "execute_result"
    }
   ],
   "source": [
    "f.write(\"this is my file in different way this is my file in different way this is my file in different way\")"
   ]
  },
  {
   "cell_type": "code",
   "execution_count": 264,
   "id": "6582e910",
   "metadata": {},
   "outputs": [],
   "source": [
    "f.close()"
   ]
  },
  {
   "cell_type": "code",
   "execution_count": 265,
   "id": "d734be42",
   "metadata": {},
   "outputs": [],
   "source": [
    "f = open(\"test2.txt\", \"w\")"
   ]
  },
  {
   "cell_type": "code",
   "execution_count": 268,
   "id": "12b1b072",
   "metadata": {},
   "outputs": [
    {
     "data": {
      "text/plain": [
       "51"
      ]
     },
     "execution_count": 268,
     "metadata": {},
     "output_type": "execute_result"
    }
   ],
   "source": [
    "f.write(\"hjgujfnvuhkgfjopiyhjhbfjuhvdmjnfvknhjvjvbhgu;k[0ng]\")"
   ]
  },
  {
   "cell_type": "code",
   "execution_count": 269,
   "id": "7a7418d6",
   "metadata": {},
   "outputs": [],
   "source": [
    "f.close()"
   ]
  },
  {
   "cell_type": "code",
   "execution_count": 274,
   "id": "b244eb94",
   "metadata": {},
   "outputs": [],
   "source": [
    "f = open(\"test2.txt\", \"w\")\n",
    "f.write(\"[45,5,7,82,7,1,82,5]\")\n",
    "f.close()"
   ]
  },
  {
   "cell_type": "code",
   "execution_count": 275,
   "id": "4b09f92f",
   "metadata": {},
   "outputs": [
    {
     "data": {
      "text/plain": [
       "True"
      ]
     },
     "execution_count": 275,
     "metadata": {},
     "output_type": "execute_result"
    }
   ],
   "source": [
    "f.closed\n"
   ]
  },
  {
   "cell_type": "code",
   "execution_count": 276,
   "id": "4c549d04",
   "metadata": {},
   "outputs": [
    {
     "data": {
      "text/plain": [
       "'w'"
      ]
     },
     "execution_count": 276,
     "metadata": {},
     "output_type": "execute_result"
    }
   ],
   "source": [
    "f.mode"
   ]
  },
  {
   "cell_type": "code",
   "execution_count": 286,
   "id": "69e52e94",
   "metadata": {},
   "outputs": [
    {
     "data": {
      "text/plain": [
       "10"
      ]
     },
     "execution_count": 286,
     "metadata": {},
     "output_type": "execute_result"
    }
   ],
   "source": [
    "f = open(\"test2.txt\", \"r\")\n",
    "f.seek(10)"
   ]
  },
  {
   "cell_type": "code",
   "execution_count": 288,
   "id": "8ba54608",
   "metadata": {},
   "outputs": [
    {
     "data": {
      "text/plain": [
       "<function TextIOWrapper.readline(size=-1, /)>"
      ]
     },
     "execution_count": 288,
     "metadata": {},
     "output_type": "execute_result"
    }
   ],
   "source": [
    "f.readline"
   ]
  },
  {
   "cell_type": "code",
   "execution_count": 296,
   "id": "caf72245",
   "metadata": {},
   "outputs": [],
   "source": [
    "f = open(\"test2.txt\", \"r\")\n"
   ]
  },
  {
   "cell_type": "code",
   "execution_count": 297,
   "id": "3a570d5b",
   "metadata": {},
   "outputs": [
    {
     "data": {
      "text/plain": [
       "'r'"
      ]
     },
     "execution_count": 297,
     "metadata": {},
     "output_type": "execute_result"
    }
   ],
   "source": [
    "f.mode"
   ]
  },
  {
   "cell_type": "code",
   "execution_count": 299,
   "id": "1d817957",
   "metadata": {},
   "outputs": [],
   "source": [
    "l = [1,5,7,8,9,2]"
   ]
  },
  {
   "cell_type": "code",
   "execution_count": 509,
   "id": "61c483ec",
   "metadata": {},
   "outputs": [],
   "source": [
    "def sq(n):\n",
    "    return n**2"
   ]
  },
  {
   "cell_type": "code",
   "execution_count": 301,
   "id": "33408a3d",
   "metadata": {},
   "outputs": [
    {
     "data": {
      "text/plain": [
       "<map at 0x1d22cde6800>"
      ]
     },
     "execution_count": 301,
     "metadata": {},
     "output_type": "execute_result"
    }
   ],
   "source": [
    "map(sq, l)"
   ]
  },
  {
   "cell_type": "code",
   "execution_count": 305,
   "id": "262e8726",
   "metadata": {},
   "outputs": [
    {
     "data": {
      "text/plain": [
       "[1, 25, 49, 64, 81, 4]"
      ]
     },
     "execution_count": 305,
     "metadata": {},
     "output_type": "execute_result"
    }
   ],
   "source": [
    "list(map(sq,l))"
   ]
  },
  {
   "cell_type": "code",
   "execution_count": 306,
   "id": "5e85c055",
   "metadata": {},
   "outputs": [
    {
     "data": {
      "text/plain": [
       "<map at 0x1d22cde6d10>"
      ]
     },
     "execution_count": 306,
     "metadata": {},
     "output_type": "execute_result"
    }
   ],
   "source": [
    "map(lambda x : x**2, l)"
   ]
  },
  {
   "cell_type": "code",
   "execution_count": 307,
   "id": "2fd5a4c2",
   "metadata": {},
   "outputs": [
    {
     "data": {
      "text/plain": [
       "[1, 25, 49, 64, 81, 4]"
      ]
     },
     "execution_count": 307,
     "metadata": {},
     "output_type": "execute_result"
    }
   ],
   "source": [
    "list(map(lambda x : x**2, l))"
   ]
  },
  {
   "cell_type": "code",
   "execution_count": 333,
   "id": "2ad7cb51",
   "metadata": {},
   "outputs": [],
   "source": [
    "l = [1, 25, 49, 64, 81, 4]"
   ]
  },
  {
   "cell_type": "code",
   "execution_count": 313,
   "id": "c65486e1",
   "metadata": {},
   "outputs": [
    {
     "data": {
      "text/plain": [
       "['1', '25', '49', '64', '81', '4']"
      ]
     },
     "execution_count": 313,
     "metadata": {},
     "output_type": "execute_result"
    }
   ],
   "source": [
    "list(map(lambda x : str(x), l))"
   ]
  },
  {
   "cell_type": "code",
   "execution_count": 314,
   "id": "a5217e80",
   "metadata": {},
   "outputs": [],
   "source": [
    "def str_f(n):\n",
    "    return str(n)"
   ]
  },
  {
   "cell_type": "code",
   "execution_count": 316,
   "id": "59e4d487",
   "metadata": {},
   "outputs": [
    {
     "data": {
      "text/plain": [
       "['1', '25', '49', '64', '81', '4']"
      ]
     },
     "execution_count": 316,
     "metadata": {},
     "output_type": "execute_result"
    }
   ],
   "source": [
    "list(map(str_f, l))"
   ]
  },
  {
   "cell_type": "code",
   "execution_count": 317,
   "id": "03de9338",
   "metadata": {},
   "outputs": [
    {
     "data": {
      "text/plain": [
       "['1', '25', '49', '64', '81', '4']"
      ]
     },
     "execution_count": 317,
     "metadata": {},
     "output_type": "execute_result"
    }
   ],
   "source": [
    "list(map(str, l))"
   ]
  },
  {
   "cell_type": "code",
   "execution_count": 319,
   "id": "068518f5",
   "metadata": {},
   "outputs": [],
   "source": [
    "from functools import reduce"
   ]
  },
  {
   "cell_type": "code",
   "execution_count": 334,
   "id": "51cf92b4",
   "metadata": {},
   "outputs": [
    {
     "data": {
      "text/plain": [
       "[1, 25, 49, 64, 81, 4]"
      ]
     },
     "execution_count": 334,
     "metadata": {},
     "output_type": "execute_result"
    }
   ],
   "source": [
    "l"
   ]
  },
  {
   "cell_type": "code",
   "execution_count": 338,
   "id": "c2f73c3c",
   "metadata": {},
   "outputs": [
    {
     "data": {
      "text/plain": [
       "224"
      ]
     },
     "execution_count": 338,
     "metadata": {},
     "output_type": "execute_result"
    }
   ],
   "source": [
    "sum(l)"
   ]
  },
  {
   "cell_type": "code",
   "execution_count": 336,
   "id": "cc55248a",
   "metadata": {},
   "outputs": [
    {
     "data": {
      "text/plain": [
       "224"
      ]
     },
     "execution_count": 336,
     "metadata": {},
     "output_type": "execute_result"
    }
   ],
   "source": [
    "reduce(lambda a,b:a+b , l)"
   ]
  },
  {
   "cell_type": "code",
   "execution_count": 337,
   "id": "1cf9d8d0",
   "metadata": {},
   "outputs": [
    {
     "data": {
      "text/plain": [
       "25401600"
      ]
     },
     "execution_count": 337,
     "metadata": {},
     "output_type": "execute_result"
    }
   ],
   "source": [
    "reduce(lambda a,b:a*b , l)"
   ]
  },
  {
   "cell_type": "code",
   "execution_count": 339,
   "id": "038225cf",
   "metadata": {},
   "outputs": [],
   "source": [
    "l1 = [3]"
   ]
  },
  {
   "cell_type": "code",
   "execution_count": 340,
   "id": "fc53c9b7",
   "metadata": {},
   "outputs": [
    {
     "data": {
      "text/plain": [
       "3"
      ]
     },
     "execution_count": 340,
     "metadata": {},
     "output_type": "execute_result"
    }
   ],
   "source": [
    "reduce(lambda a,b:a*b , l1)"
   ]
  },
  {
   "cell_type": "code",
   "execution_count": 341,
   "id": "6742fd47",
   "metadata": {},
   "outputs": [
    {
     "data": {
      "text/plain": [
       "3"
      ]
     },
     "execution_count": 341,
     "metadata": {},
     "output_type": "execute_result"
    }
   ],
   "source": [
    "reduce(lambda a,b:a+b , l1)"
   ]
  },
  {
   "cell_type": "code",
   "execution_count": 342,
   "id": "206c467d",
   "metadata": {},
   "outputs": [
    {
     "data": {
      "text/plain": [
       "<filter at 0x1d22cde7d30>"
      ]
     },
     "execution_count": 342,
     "metadata": {},
     "output_type": "execute_result"
    }
   ],
   "source": [
    "filter(lambda x:x%2==0, l)"
   ]
  },
  {
   "cell_type": "code",
   "execution_count": 343,
   "id": "a7f2daba",
   "metadata": {},
   "outputs": [
    {
     "data": {
      "text/plain": [
       "[64, 4]"
      ]
     },
     "execution_count": 343,
     "metadata": {},
     "output_type": "execute_result"
    }
   ],
   "source": [
    "list(filter(lambda x: x%2==0, l))"
   ]
  },
  {
   "cell_type": "code",
   "execution_count": 344,
   "id": "44609c10",
   "metadata": {},
   "outputs": [
    {
     "data": {
      "text/plain": [
       "[1, 25, 49, 81]"
      ]
     },
     "execution_count": 344,
     "metadata": {},
     "output_type": "execute_result"
    }
   ],
   "source": [
    "list(filter(lambda x: x%2, l))"
   ]
  },
  {
   "cell_type": "code",
   "execution_count": 347,
   "id": "029e790a",
   "metadata": {},
   "outputs": [
    {
     "data": {
      "text/plain": [
       "[False, False, False, True, False, True]"
      ]
     },
     "execution_count": 347,
     "metadata": {},
     "output_type": "execute_result"
    }
   ],
   "source": [
    "[i%2== 0 for i in l]"
   ]
  },
  {
   "cell_type": "code",
   "execution_count": 348,
   "id": "a4b4bdea",
   "metadata": {},
   "outputs": [],
   "source": [
    "def check_even(n):\n",
    "    if n%2==0:\n",
    "        return True"
   ]
  },
  {
   "cell_type": "code",
   "execution_count": 349,
   "id": "aadd931f",
   "metadata": {},
   "outputs": [
    {
     "data": {
      "text/plain": [
       "[64, 4]"
      ]
     },
     "execution_count": 349,
     "metadata": {},
     "output_type": "execute_result"
    }
   ],
   "source": [
    "list(filter(check_even, l))"
   ]
  },
  {
   "cell_type": "code",
   "execution_count": 350,
   "id": "a62dd878",
   "metadata": {},
   "outputs": [],
   "source": [
    "def test(a,b):\n",
    "    return a+b\n",
    "\n",
    "    "
   ]
  },
  {
   "cell_type": "code",
   "execution_count": 363,
   "id": "f1074482",
   "metadata": {},
   "outputs": [
    {
     "data": {
      "text/plain": [
       "'mayu shirsath'"
      ]
     },
     "execution_count": 363,
     "metadata": {},
     "output_type": "execute_result"
    }
   ],
   "source": [
    "test(\"mayu \", \"shirsath\")"
   ]
  },
  {
   "cell_type": "code",
   "execution_count": 358,
   "id": "18f342a2",
   "metadata": {},
   "outputs": [],
   "source": [
    "def compare(a,b):\n",
    "    return a>b"
   ]
  },
  {
   "cell_type": "code",
   "execution_count": 360,
   "id": "f0922ee9",
   "metadata": {},
   "outputs": [
    {
     "data": {
      "text/plain": [
       "False"
      ]
     },
     "execution_count": 360,
     "metadata": {},
     "output_type": "execute_result"
    }
   ],
   "source": [
    "compare(1,5)"
   ]
  },
  {
   "cell_type": "code",
   "execution_count": 365,
   "id": "e7050c9c",
   "metadata": {},
   "outputs": [
    {
     "data": {
      "text/plain": [
       "'abc123'"
      ]
     },
     "execution_count": 365,
     "metadata": {},
     "output_type": "execute_result"
    }
   ],
   "source": [
    "test(a=\"abc\", b = \"123\")"
   ]
  },
  {
   "cell_type": "code",
   "execution_count": 368,
   "id": "8fa768cc",
   "metadata": {},
   "outputs": [],
   "source": [
    "def test1(n):\n",
    "    \"\"\"insert literable value at n\"\"\"\n",
    "    return n\n",
    "    "
   ]
  },
  {
   "cell_type": "code",
   "execution_count": 370,
   "id": "36252cd1",
   "metadata": {},
   "outputs": [
    {
     "data": {
      "text/plain": [
       "[1, 25, 49, 64, 81, 4]"
      ]
     },
     "execution_count": 370,
     "metadata": {},
     "output_type": "execute_result"
    }
   ],
   "source": [
    "test1(l)"
   ]
  },
  {
   "cell_type": "code",
   "execution_count": 371,
   "id": "a50ab59b",
   "metadata": {},
   "outputs": [],
   "source": [
    "def test2( a,b,c,d,e,f):\n",
    "    return a,b,c,d,e,f"
   ]
  },
  {
   "cell_type": "code",
   "execution_count": 374,
   "id": "e828a21d",
   "metadata": {},
   "outputs": [
    {
     "data": {
      "text/plain": [
       "(1, 7, 8, 5, 5, 58)"
      ]
     },
     "execution_count": 374,
     "metadata": {},
     "output_type": "execute_result"
    }
   ],
   "source": [
    "test2(1,7,8,5,5,58)"
   ]
  },
  {
   "cell_type": "code",
   "execution_count": 375,
   "id": "e149940e",
   "metadata": {},
   "outputs": [],
   "source": [
    "def test3(*a):\n",
    "    return a"
   ]
  },
  {
   "cell_type": "code",
   "execution_count": 377,
   "id": "3ffee4d2",
   "metadata": {},
   "outputs": [
    {
     "data": {
      "text/plain": [
       "(1, 2.5, 7, 8, 'amby')"
      ]
     },
     "execution_count": 377,
     "metadata": {},
     "output_type": "execute_result"
    }
   ],
   "source": [
    "test3(1,2.5,7,8,\"amby\")"
   ]
  },
  {
   "cell_type": "code",
   "execution_count": 385,
   "id": "886f99df",
   "metadata": {},
   "outputs": [],
   "source": [
    "def test(**m):\n",
    "    return m"
   ]
  },
  {
   "cell_type": "code",
   "execution_count": 388,
   "id": "3b770a40",
   "metadata": {},
   "outputs": [],
   "source": [
    "def test4(*a):\n",
    "    l1 =[]\n",
    "    for i in a:\n",
    "        l1.append(i)\n",
    "    return l1    "
   ]
  },
  {
   "cell_type": "code",
   "execution_count": 389,
   "id": "c1c3c039",
   "metadata": {},
   "outputs": [
    {
     "data": {
      "text/plain": [
       "[1, 8, 2, 7, 1, 6, 56, 2, 8]"
      ]
     },
     "execution_count": 389,
     "metadata": {},
     "output_type": "execute_result"
    }
   ],
   "source": [
    "test4(1,8,2,7,1,6,56,2,8)"
   ]
  },
  {
   "cell_type": "code",
   "execution_count": 392,
   "id": "b4959848",
   "metadata": {},
   "outputs": [],
   "source": [
    "def test5(a,b,c,d,*m):\n",
    "    return a,b,c,d,m"
   ]
  },
  {
   "cell_type": "code",
   "execution_count": 393,
   "id": "d12897bc",
   "metadata": {},
   "outputs": [
    {
     "data": {
      "text/plain": [
       "(1, 76, 8, 6, (8, 6, 8, 5, 8, 1, 9, 5, 8))"
      ]
     },
     "execution_count": 393,
     "metadata": {},
     "output_type": "execute_result"
    }
   ],
   "source": [
    "test5(1,76,8,6,8,6,8,5,8,1,9,5,8)"
   ]
  },
  {
   "cell_type": "code",
   "execution_count": 396,
   "id": "a71811ae",
   "metadata": {},
   "outputs": [],
   "source": [
    "def t1(*m,a,b,c):\n",
    "    return m,a,b,c"
   ]
  },
  {
   "cell_type": "code",
   "execution_count": 398,
   "id": "462371e3",
   "metadata": {},
   "outputs": [
    {
     "data": {
      "text/plain": [
       "((1, 2, 3, 4, 8), 2, 9, 9)"
      ]
     },
     "execution_count": 398,
     "metadata": {},
     "output_type": "execute_result"
    }
   ],
   "source": [
    "t1(1,2,3,4,8, a=2, b=9, c=9)"
   ]
  },
  {
   "cell_type": "code",
   "execution_count": 399,
   "id": "672e725b",
   "metadata": {},
   "outputs": [],
   "source": [
    "def t2(**m):\n",
    "    return m"
   ]
  },
  {
   "cell_type": "code",
   "execution_count": 400,
   "id": "9387b6f9",
   "metadata": {},
   "outputs": [
    {
     "data": {
      "text/plain": [
       "{'a': 2, 'b': 3, 'c': 8, 'd': 8, 'e': 6}"
      ]
     },
     "execution_count": 400,
     "metadata": {},
     "output_type": "execute_result"
    }
   ],
   "source": [
    "t2(a=2, b=3,c=8,d=8,e=6)"
   ]
  },
  {
   "cell_type": "code",
   "execution_count": 404,
   "id": "dee5f284",
   "metadata": {},
   "outputs": [],
   "source": [
    "def t3(*a, **m):\n",
    "    return a, m"
   ]
  },
  {
   "cell_type": "code",
   "execution_count": 407,
   "id": "5eb98125",
   "metadata": {},
   "outputs": [
    {
     "data": {
      "text/plain": [
       "((1, 2, 5, 6, 7, 8, 9), {'a': 2, 'b': 9, 'c': 8, 'd': 6, 'e': 3})"
      ]
     },
     "execution_count": 407,
     "metadata": {},
     "output_type": "execute_result"
    }
   ],
   "source": [
    "t3(1,2,5,6,7,8,9, a=2, b=9, c=8, d=6, e=3)"
   ]
  },
  {
   "cell_type": "code",
   "execution_count": 414,
   "id": "47406275",
   "metadata": {},
   "outputs": [],
   "source": [
    "def test2(*m):\n",
    "    n=1\n",
    "    for i in m:\n",
    "        if type(i)==int:\n",
    "            n=n*i\n",
    "    return n      "
   ]
  },
  {
   "cell_type": "code",
   "execution_count": 420,
   "id": "976cb1c1",
   "metadata": {},
   "outputs": [
    {
     "data": {
      "text/plain": [
       "39600"
      ]
     },
     "execution_count": 420,
     "metadata": {},
     "output_type": "execute_result"
    }
   ],
   "source": [
    "test2(1,5,8,9,10,11)"
   ]
  },
  {
   "cell_type": "code",
   "execution_count": 424,
   "id": "f2f85bf8",
   "metadata": {},
   "outputs": [],
   "source": [
    "n = lambda x : x**2"
   ]
  },
  {
   "cell_type": "code",
   "execution_count": 425,
   "id": "60225df0",
   "metadata": {},
   "outputs": [
    {
     "data": {
      "text/plain": [
       "81"
      ]
     },
     "execution_count": 425,
     "metadata": {},
     "output_type": "execute_result"
    }
   ],
   "source": [
    "n(9)"
   ]
  },
  {
   "cell_type": "code",
   "execution_count": 426,
   "id": "124af25c",
   "metadata": {},
   "outputs": [],
   "source": [
    "def test(x):\n",
    "    return x**2\n"
   ]
  },
  {
   "cell_type": "code",
   "execution_count": 427,
   "id": "1bd378bc",
   "metadata": {},
   "outputs": [
    {
     "data": {
      "text/plain": [
       "81"
      ]
     },
     "execution_count": 427,
     "metadata": {},
     "output_type": "execute_result"
    }
   ],
   "source": [
    "test(9)"
   ]
  },
  {
   "cell_type": "code",
   "execution_count": 435,
   "id": "da6820ef",
   "metadata": {},
   "outputs": [],
   "source": [
    "q = lambda x,y: x*y"
   ]
  },
  {
   "cell_type": "code",
   "execution_count": 436,
   "id": "0a53d544",
   "metadata": {},
   "outputs": [
    {
     "data": {
      "text/plain": [
       "120"
      ]
     },
     "execution_count": 436,
     "metadata": {},
     "output_type": "execute_result"
    }
   ],
   "source": [
    "q(12,10)"
   ]
  },
  {
   "cell_type": "code",
   "execution_count": 438,
   "id": "50ec058f",
   "metadata": {},
   "outputs": [],
   "source": [
    "b = lambda *mayu: mayu"
   ]
  },
  {
   "cell_type": "code",
   "execution_count": 439,
   "id": "97c670ea",
   "metadata": {},
   "outputs": [
    {
     "data": {
      "text/plain": [
       "(1, 5, 7, 93, 7, 5, 4, 2)"
      ]
     },
     "execution_count": 439,
     "metadata": {},
     "output_type": "execute_result"
    }
   ],
   "source": [
    "b(1,5,7,93,7,5,4,2)"
   ]
  },
  {
   "cell_type": "code",
   "execution_count": 440,
   "id": "c302d58e",
   "metadata": {},
   "outputs": [
    {
     "data": {
      "text/plain": [
       "[0, 1, 4, 9, 16, 25, 36, 49, 64, 81]"
      ]
     },
     "execution_count": 440,
     "metadata": {},
     "output_type": "execute_result"
    }
   ],
   "source": [
    "[i*i for i in range(10)]"
   ]
  },
  {
   "cell_type": "code",
   "execution_count": 441,
   "id": "5c9c60ae",
   "metadata": {},
   "outputs": [
    {
     "data": {
      "text/plain": [
       "[1, 625, 2401, 4096, 6561, 16]"
      ]
     },
     "execution_count": 441,
     "metadata": {},
     "output_type": "execute_result"
    }
   ],
   "source": [
    "[i**2 for i in l]"
   ]
  },
  {
   "cell_type": "code",
   "execution_count": 458,
   "id": "157789e6",
   "metadata": {},
   "outputs": [],
   "source": [
    "t =(1,2,3,4,5,6,7,8,9)\n",
    "l1 =[]\n",
    "for i in t:\n",
    "    i = i**2\n",
    "    l1.append(i)\n",
    "\n",
    "    "
   ]
  },
  {
   "cell_type": "code",
   "execution_count": 459,
   "id": "c99c7dbd",
   "metadata": {},
   "outputs": [
    {
     "data": {
      "text/plain": [
       "[1, 4, 9, 16, 25, 36, 49, 64, 81]"
      ]
     },
     "execution_count": 459,
     "metadata": {},
     "output_type": "execute_result"
    }
   ],
   "source": [
    "l1"
   ]
  },
  {
   "cell_type": "code",
   "execution_count": 461,
   "id": "b174fd10",
   "metadata": {},
   "outputs": [
    {
     "data": {
      "text/plain": [
       "[1, 4, 9, 16, 25, 36, 49, 64, 81]"
      ]
     },
     "execution_count": 461,
     "metadata": {},
     "output_type": "execute_result"
    }
   ],
   "source": [
    "[i**2 for i in t]"
   ]
  },
  {
   "cell_type": "code",
   "execution_count": 462,
   "id": "5bcb131e",
   "metadata": {},
   "outputs": [
    {
     "data": {
      "text/plain": [
       "['s', 'u', 'd', 'h']"
      ]
     },
     "execution_count": 462,
     "metadata": {},
     "output_type": "execute_result"
    }
   ],
   "source": [
    "s = \"sudh\"\n",
    "[i for i in s]"
   ]
  },
  {
   "cell_type": "code",
   "execution_count": 481,
   "id": "77601ba2",
   "metadata": {},
   "outputs": [
    {
     "data": {
      "text/plain": [
       "<function __main__.<lambda>(*y)>"
      ]
     },
     "execution_count": 481,
     "metadata": {},
     "output_type": "execute_result"
    }
   ],
   "source": [
    "lambda *y: [i**2 for i in y]"
   ]
  },
  {
   "cell_type": "code",
   "execution_count": 482,
   "id": "b391a68f",
   "metadata": {},
   "outputs": [],
   "source": [
    "abc = lambda *y: [i**2 for i in y]"
   ]
  },
  {
   "cell_type": "code",
   "execution_count": 483,
   "id": "acf9c4b0",
   "metadata": {},
   "outputs": [
    {
     "data": {
      "text/plain": [
       "[4, 25, 4, 16, 36, 9, 64, 49, 36, 81, 900]"
      ]
     },
     "execution_count": 483,
     "metadata": {},
     "output_type": "execute_result"
    }
   ],
   "source": [
    "abc(2,5,2,4,6,3,8,7,6,9,30)"
   ]
  },
  {
   "cell_type": "code",
   "execution_count": 466,
   "id": "55fba883",
   "metadata": {},
   "outputs": [
    {
     "data": {
      "text/plain": [
       "[0, 1, 4, 9, 16, 25, 36, 49, 64, 81]"
      ]
     },
     "execution_count": 466,
     "metadata": {},
     "output_type": "execute_result"
    }
   ],
   "source": [
    "[i*i for i in range(10)]"
   ]
  },
  {
   "cell_type": "code",
   "execution_count": 467,
   "id": "84229d6a",
   "metadata": {},
   "outputs": [],
   "source": [
    "l2 = []\n",
    "for i in range(10):\n",
    "    l2.append(i*i)"
   ]
  },
  {
   "cell_type": "code",
   "execution_count": 468,
   "id": "1bf45416",
   "metadata": {},
   "outputs": [
    {
     "data": {
      "text/plain": [
       "[0, 1, 4, 9, 16, 25, 36, 49, 64, 81]"
      ]
     },
     "execution_count": 468,
     "metadata": {},
     "output_type": "execute_result"
    }
   ],
   "source": [
    "l2"
   ]
  },
  {
   "cell_type": "code",
   "execution_count": 469,
   "id": "eb6ebccf",
   "metadata": {},
   "outputs": [],
   "source": [
    "p = lambda *x:[ i for i in x]"
   ]
  },
  {
   "cell_type": "code",
   "execution_count": 471,
   "id": "c6b33a67",
   "metadata": {},
   "outputs": [
    {
     "data": {
      "text/plain": [
       "[1, 5, 8, 7, 9, 6, 4]"
      ]
     },
     "execution_count": 471,
     "metadata": {},
     "output_type": "execute_result"
    }
   ],
   "source": [
    "p(1,5,8,7,9,6,4)"
   ]
  },
  {
   "cell_type": "code",
   "execution_count": 472,
   "id": "df9a7f13",
   "metadata": {},
   "outputs": [],
   "source": [
    "p = lambda *a: [ i**2 for i in a]"
   ]
  },
  {
   "cell_type": "code",
   "execution_count": 473,
   "id": "17454087",
   "metadata": {},
   "outputs": [
    {
     "data": {
      "text/plain": [
       "[1, 4, 9, 16, 25, 36, 49, 64, 81]"
      ]
     },
     "execution_count": 473,
     "metadata": {},
     "output_type": "execute_result"
    }
   ],
   "source": [
    "p(1,2,3,4,5,6,7,8,9)"
   ]
  },
  {
   "cell_type": "code",
   "execution_count": 484,
   "id": "705409a1",
   "metadata": {},
   "outputs": [],
   "source": [
    "def test14(**abc):\n",
    "          "
   ]
  },
  {
   "cell_type": "code",
   "execution_count": 485,
   "id": "e6529b37",
   "metadata": {},
   "outputs": [
    {
     "data": {
      "text/plain": [
       "5"
      ]
     },
     "execution_count": 485,
     "metadata": {},
     "output_type": "execute_result"
    }
   ],
   "source": [
    "test14(a=7, b=\"sudh\", c= 345, d = \"sudh\", l =[2,2,8,6,7, \"sudh\"])"
   ]
  },
  {
   "cell_type": "code",
   "execution_count": 492,
   "id": "f896114e",
   "metadata": {},
   "outputs": [],
   "source": [
    "def test14(**abc):\n",
    "    n =0\n",
    "    for i in abc.values():\n",
    "        if type(i)== str or type(i)==list:\n",
    "            n = n+1\n",
    "    return n        \n",
    "            \n",
    "            \n",
    "            \n",
    "    "
   ]
  },
  {
   "cell_type": "code",
   "execution_count": 493,
   "id": "2bcb9240",
   "metadata": {},
   "outputs": [
    {
     "data": {
      "text/plain": [
       "3"
      ]
     },
     "execution_count": 493,
     "metadata": {},
     "output_type": "execute_result"
    }
   ],
   "source": [
    "test14(a=7, b=\"sudh\", c= 345, d = \"sudh\", l =[2,2,8,6,7, \"sudh\"])"
   ]
  },
  {
   "cell_type": "code",
   "execution_count": 497,
   "id": "09bcd750",
   "metadata": {},
   "outputs": [],
   "source": [
    "def test14(**abc):\n",
    "    return list(abc.values())"
   ]
  },
  {
   "cell_type": "code",
   "execution_count": 498,
   "id": "41691cc9",
   "metadata": {},
   "outputs": [
    {
     "data": {
      "text/plain": [
       "[7, 'sudh', 345, 'sudh', [2, 2, 8, 6, 7, 'sudh']]"
      ]
     },
     "execution_count": 498,
     "metadata": {},
     "output_type": "execute_result"
    }
   ],
   "source": [
    "test14(a=7, b=\"sudh\", c= 345, d = \"sudh\", l =[2,2,8,6,7, \"sudh\"])"
   ]
  },
  {
   "cell_type": "code",
   "execution_count": 3,
   "id": "d793ba5b",
   "metadata": {},
   "outputs": [],
   "source": [
    "def askint():\n",
    "    try :\n",
    "        val = int(input(\"please enter an integer : \"))\n",
    "    except:\n",
    "        print(\"no you have not entered an integer value\")\n",
    "        try:\n",
    "            val = int(input(\"please enter an integer : \"))\n",
    "        except:\n",
    "            print(\"we are able to handle your mistake again\")\n",
    "    finally:\n",
    "        print(\"finally will be executed anyhow\")\n",
    "            \n",
    "    "
   ]
  },
  {
   "cell_type": "code",
   "execution_count": 2,
   "id": "cc403ef0",
   "metadata": {},
   "outputs": [
    {
     "name": "stdout",
     "output_type": "stream",
     "text": [
      "please enter an integer : 100\n",
      "finally will be executed anyhow\n"
     ]
    }
   ],
   "source": [
    "askint()"
   ]
  },
  {
   "cell_type": "code",
   "execution_count": 5,
   "id": "cdaecd8e",
   "metadata": {},
   "outputs": [
    {
     "name": "stdout",
     "output_type": "stream",
     "text": [
      "please enter an integer : hgydgikjisyawgb\n",
      "no you have not entered an integer value\n",
      "please enter an integer : 10\n",
      "finally will be executed anyhow\n"
     ]
    }
   ],
   "source": [
    "askint()"
   ]
  },
  {
   "cell_type": "code",
   "execution_count": 6,
   "id": "5cc384a8",
   "metadata": {},
   "outputs": [
    {
     "name": "stdout",
     "output_type": "stream",
     "text": [
      "please enter an integer : tgsheuige\n",
      "no you have not entered an integer value\n",
      "please enter an integer : hygudd\n",
      "we are able to handle your mistake again\n",
      "finally will be executed anyhow\n"
     ]
    }
   ],
   "source": [
    "askint()"
   ]
  },
  {
   "cell_type": "code",
   "execution_count": 7,
   "id": "d033b866",
   "metadata": {},
   "outputs": [],
   "source": [
    "def askint1():\n",
    "    while True:\n",
    "        try:\n",
    "            val = int(input(\"please try to input an integer: \"))\n",
    "            print(\"yes u put an integer\")\n",
    "            break\n",
    "        except Exception as e:\n",
    "            print(\"looks like you havent entered an integer\")\n",
    "            continue"
   ]
  },
  {
   "cell_type": "code",
   "execution_count": 8,
   "id": "96db765b",
   "metadata": {},
   "outputs": [
    {
     "name": "stdout",
     "output_type": "stream",
     "text": [
      "please try to input an integer: mlkj\n",
      "looks like you havent entered an integer\n",
      "please try to input an integer: 5\n",
      "yes u put an integer\n"
     ]
    }
   ],
   "source": [
    "askint1()"
   ]
  }
 ],
 "metadata": {
  "kernelspec": {
   "display_name": "Python 3 (ipykernel)",
   "language": "python",
   "name": "python3"
  },
  "language_info": {
   "codemirror_mode": {
    "name": "ipython",
    "version": 3
   },
   "file_extension": ".py",
   "mimetype": "text/x-python",
   "name": "python",
   "nbconvert_exporter": "python",
   "pygments_lexer": "ipython3",
   "version": "3.10.9"
  }
 },
 "nbformat": 4,
 "nbformat_minor": 5
}
