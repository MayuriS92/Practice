{
 "cells": [
  {
   "cell_type": "code",
   "execution_count": 1,
   "id": "f5405f06",
   "metadata": {},
   "outputs": [],
   "source": [
    "class person:\n",
    "    def __init__(self, name, surname, emailid):\n",
    "        self.name1= name\n",
    "        self.surname1=surname\n",
    "        self.emailid1=emailid\n",
    "mayuri= person(\"mayuri\", \"shirsath\", \"mayuri92@com\")        "
   ]
  },
  {
   "cell_type": "code",
   "execution_count": 2,
   "id": "1f3f1248",
   "metadata": {},
   "outputs": [
    {
     "data": {
      "text/plain": [
       "'mayuri'"
      ]
     },
     "execution_count": 2,
     "metadata": {},
     "output_type": "execute_result"
    }
   ],
   "source": [
    "mayuri.name1"
   ]
  },
  {
   "cell_type": "code",
   "execution_count": 3,
   "id": "f470c40e",
   "metadata": {},
   "outputs": [
    {
     "data": {
      "text/plain": [
       "'mayuri92@com'"
      ]
     },
     "execution_count": 3,
     "metadata": {},
     "output_type": "execute_result"
    }
   ],
   "source": [
    "mayuri.emailid1"
   ]
  },
  {
   "cell_type": "code",
   "execution_count": 4,
   "id": "fec43e45",
   "metadata": {},
   "outputs": [
    {
     "data": {
      "text/plain": [
       "'shirsath'"
      ]
     },
     "execution_count": 4,
     "metadata": {},
     "output_type": "execute_result"
    }
   ],
   "source": [
    "mayuri.surname1"
   ]
  },
  {
   "cell_type": "code",
   "execution_count": 5,
   "id": "92b05608",
   "metadata": {},
   "outputs": [],
   "source": [
    "class employee:\n",
    "    def __init__(self, gender, salary):\n",
    "        self.gender=gender\n",
    "        self.salary= salary\n",
    "mayuri = employee(\"female\", 100000)        \n",
    "    \n",
    "    "
   ]
  },
  {
   "cell_type": "code",
   "execution_count": 6,
   "id": "69d8e892",
   "metadata": {},
   "outputs": [
    {
     "data": {
      "text/plain": [
       "'female'"
      ]
     },
     "execution_count": 6,
     "metadata": {},
     "output_type": "execute_result"
    }
   ],
   "source": [
    "mayuri.gender"
   ]
  },
  {
   "cell_type": "code",
   "execution_count": 7,
   "id": "4c7f00f4",
   "metadata": {},
   "outputs": [
    {
     "data": {
      "text/plain": [
       "100000"
      ]
     },
     "execution_count": 7,
     "metadata": {},
     "output_type": "execute_result"
    }
   ],
   "source": [
    "mayuri.salary\n"
   ]
  },
  {
   "cell_type": "code",
   "execution_count": 9,
   "id": "7c9374ae",
   "metadata": {},
   "outputs": [],
   "source": [
    "import datetime\n",
    "import logging\n",
    "logging.basicConfig(filename= \"text.log\", level= logging.info, format = \"%(asctime)s %(levelname)s %(name)s %(message)s\")\n",
    "                    \n",
    "## constructor\n",
    "\n",
    "class FSDS_student:\n",
    "    def __init__(self, name, id):\n",
    "        logging.info(\"class detail form student calss\")\n",
    "        self.name = name\n",
    "        self.id = id\n",
    "\n",
    "class FSDS_internship:\n",
    "    def __init__(self, project, techo):\n",
    "        logging.info(\"class detail from intership class\")\n",
    "        self.project = project\n",
    "        self.techno = techno\n",
    "        \n",
    "class FSDS_course:\n",
    "    def __init__(self, course_name, course_fee):\n",
    "        logging.info(\"class detail from course class\")\n",
    "        self.course_name = course_name\n",
    "        self.course_fee = course_name\n",
    "\n",
    "class FSDS_job:\n",
    "    def __init__(self, company, jobrole, student):\n",
    "        logging.info(\"class detail from job class\")\n",
    "        self.company= company\n",
    "        self.jobrole = jobrole\n",
    "        self.student= student\n",
    "                     \n",
    "class FSDS_course_no:\n",
    "    def __init__(self, course_name, course_no, course_fee):\n",
    "        logging.info(\"class detail from course_no class\")\n",
    "        self.course_name = course_name\n",
    "        self.course_fee = course_fee\n",
    "        self.course_no = course_no\n",
    "        \n",
    "class FSDS_blog:\n",
    "    def __init__(self, blog_topic, blog_detail):\n",
    "        logging.info(\"class detail from blog class\")\n",
    "        self.blog_topic= blog_topic\n",
    "        self.blog_detail = blog_detail\n",
    "        \n",
    "mayuri= FSDS_student(\"mayuri\", 13456)        \n",
    "fsds = FSDS_course_no(\"fsds\", 123, 20000)       \n",
    "fsds.course_fee    \n",
    "    \n",
    "                    \n",
    "                    "
   ]
  },
  {
   "cell_type": "code",
   "execution_count": 15,
   "id": "bea3d820",
   "metadata": {},
   "outputs": [],
   "source": [
    "import logging\n",
    "class FSDS_student_in:\n",
    "\n",
    "    def student_detail(self, name , id):\n",
    "        self.name = name\n",
    "        self.level = id\n",
    "        logging.info(\"student details\")\n",
    "        print(\"student name is: \", name)\n",
    "        print(\"student level is \", id)\n",
    "i = FSDS_student_in()\n",
    "i.student_detail(\"ani\", \"123456\")\n",
    "print(i.name)\n",
    "print(i.level)"
   ]
  },
  {
   "cell_type": "code",
   "execution_count": 20,
   "id": "6d8a9615",
   "metadata": {},
   "outputs": [
    {
     "name": "stdout",
     "output_type": "stream",
     "text": [
      "Hi my name is arunita and I am a male\n",
      "ankit\n",
      "male\n"
     ]
    }
   ],
   "source": [
    "class Person:\n",
    "  def __init__(self,name,gender):\n",
    "    self.name = name\n",
    "    self.gender = gender\n",
    "\n",
    "def greet(person):\n",
    "  print('Hi my name is',person.name,'and I am a',person.gender)\n",
    "  p1 = Person('ankit','male')\n",
    "  return p1\n",
    "\n",
    "p = Person('arunita','male')\n",
    "x = greet(p)\n",
    "print(x.name)\n",
    "print(x.gender)"
   ]
  },
  {
   "cell_type": "code",
   "execution_count": 23,
   "id": "5d1accdd",
   "metadata": {},
   "outputs": [
    {
     "name": "stdout",
     "output_type": "stream",
     "text": [
      "Inside SmartPhone constructor\n",
      "Error is:  'SmartPhone' object has no attribute 'brand'\n"
     ]
    }
   ],
   "source": [
    "class Phone:\n",
    "    def __init__(self, price, brand, camera):\n",
    "        print (\"Inside phone constructor\")\n",
    "        self.__price = price\n",
    "        self.brand = brand\n",
    "        self.camera = camera\n",
    "\n",
    "class SmartPhone(Phone):\n",
    "    def __init__(self, os, ram):\n",
    "        self.os = os\n",
    "        self.ram = ram\n",
    "        print (\"Inside SmartPhone constructor\")\n",
    "\n",
    "s = SmartPhone(\"Android\", 2)\n",
    "\n",
    "try:\n",
    "    s.brand\n",
    "except Exception as err:\n",
    "    print(\"Error is: \", err)"
   ]
  },
  {
   "cell_type": "code",
   "execution_count": 2,
   "id": "da88200c",
   "metadata": {},
   "outputs": [
    {
     "name": "stdout",
     "output_type": "stream",
     "text": [
      "Hello! Welcome to the Deposit & Withdrawal Machine\n",
      "Enter amount to be Deposited: 1000\n",
      "\n",
      " Amount Deposited: 1000.0\n",
      "\n",
      " You Withdrew: 500\n",
      "Net Available Balance= 500.0\n"
     ]
    }
   ],
   "source": [
    "class Bank_Account: \n",
    "#The _init_ function run as soon as an object of a class is instantiated\n",
    "    def __init__(self): \n",
    "        self.balance=0\n",
    "        print(\"Hello! Welcome to the Deposit & Withdrawal Machine\") \n",
    "        \n",
    "#function to deposit money\n",
    "    def deposit(self): \n",
    "        amount=float(input(\"Enter amount to be Deposited: \")) \n",
    "        self.balance += amount \n",
    "        print(\"\\n Amount Deposited:\",amount) \n",
    "        \n",
    "#function to withdraw money\n",
    "    def withdraw(self,amount): \n",
    "        if self.balance>=amount: \n",
    "            self.balance-=amount \n",
    "            print(\"\\n You Withdrew:\", amount) \n",
    "        else: \n",
    "            print(\"\\n Insufficient balance  \") \n",
    "            \n",
    "#function to display the amount\n",
    "    def display(self): \n",
    "         print(\"Net Available Balance=\", round(self.balance,2) )\n",
    "              \n",
    "s = Bank_Account()\n",
    "s.deposit()              \n",
    "s.withdraw(500) \n",
    "s.display()\n",
    "              \n",
    "              \n",
    "              "
   ]
  },
  {
   "cell_type": "code",
   "execution_count": 28,
   "id": "7720bd0e",
   "metadata": {},
   "outputs": [
    {
     "ename": "IndentationError",
     "evalue": "expected an indented block after class definition on line 2 (320583992.py, line 5)",
     "output_type": "error",
     "traceback": [
      "\u001b[1;36m  Cell \u001b[1;32mIn[28], line 5\u001b[1;36m\u001b[0m\n\u001b[1;33m    class SuperClass2:\u001b[0m\n\u001b[1;37m    ^\u001b[0m\n\u001b[1;31mIndentationError\u001b[0m\u001b[1;31m:\u001b[0m expected an indented block after class definition on line 2\n"
     ]
    }
   ],
   "source": [
    "## multiple inheritance syntax\n",
    "class SuperClass1:\n",
    "    # features of SuperClass1\n",
    "\n",
    "class SuperClass2:\n",
    "    # features of SuperClass2\n",
    "\n",
    "class MultiDerived(SuperClass1, SuperClass2):\n",
    "    # features of SuperClass1 + SuperClass2 + MultiDerived class"
   ]
  },
  {
   "cell_type": "code",
   "execution_count": 29,
   "id": "ae6b4b13",
   "metadata": {},
   "outputs": [
    {
     "name": "stdout",
     "output_type": "stream",
     "text": [
      "Mammals can give direct birth.\n",
      "Winged animals can flap.\n"
     ]
    }
   ],
   "source": [
    "## example\n",
    "class Mammal:\n",
    "    def mammal_info(self):\n",
    "        print(\"Mammals can give direct birth.\")\n",
    "\n",
    "class WingedAnimal:\n",
    "    def winged_animal_info(self):\n",
    "        print(\"Winged animals can flap.\")\n",
    "\n",
    "class Bat(Mammal, WingedAnimal):\n",
    "    pass\n",
    "\n",
    "b1 = Bat()\n",
    "\n",
    "b1.mammal_info()\n",
    "b1.winged_animal_info()"
   ]
  },
  {
   "cell_type": "code",
   "execution_count": null,
   "id": "f44d305b",
   "metadata": {},
   "outputs": [],
   "source": [
    "## syntax for multilevel inheritance\n",
    "class SuperClass:\n",
    "    # Super class code here\n",
    "\n",
    "class DerivedClass1(SuperClass):\n",
    "    # Derived class 1 code here\n",
    "\n",
    "class DerivedClass2(DerivedClass1):\n",
    "    # Derived class 2 code here"
   ]
  },
  {
   "cell_type": "code",
   "execution_count": 30,
   "id": "4e54505e",
   "metadata": {},
   "outputs": [
    {
     "name": "stdout",
     "output_type": "stream",
     "text": [
      "Super Class method called\n",
      "Derived class 1 method called\n",
      "Derived class 2 method called\n"
     ]
    }
   ],
   "source": [
    "## example\n",
    "class SuperClass:\n",
    "\n",
    "    def super_method(self):\n",
    "        print(\"Super Class method called\")\n",
    "\n",
    "class DerivedClass1(SuperClass):\n",
    "    def derived1_method(self):\n",
    "        print(\"Derived class 1 method called\")\n",
    "\n",
    "class DerivedClass2(DerivedClass1):\n",
    "\n",
    "    def derived2_method(self):\n",
    "        print(\"Derived class 2 method called\")\n",
    "\n",
    "d2 = DerivedClass2()\n",
    "\n",
    "d2.super_method()  \n",
    "\n",
    "d2.derived1_method()  \n",
    "\n",
    "d2.derived2_method()  "
   ]
  },
  {
   "cell_type": "code",
   "execution_count": null,
   "id": "ee0fb79b",
   "metadata": {},
   "outputs": [],
   "source": [
    "## method resolution order example\n",
    "class SuperClass1:\n",
    "    def info(self):\n",
    "        print(\"Super Class 1 method called\")\n",
    "\n",
    "class SuperClass2:\n",
    "    def info(self):\n",
    "        print(\"Super Class 2 method called\")\n",
    "\n",
    "class Derived(SuperClass1, SuperClass2):\n",
    "    pass\n",
    "\n",
    "d1 = Derived()\n",
    "d1.info()  \n",
    "\n",
    "# Output: \"Super Class 1 method called\""
   ]
  }
 ],
 "metadata": {
  "kernelspec": {
   "display_name": "Python 3 (ipykernel)",
   "language": "python",
   "name": "python3"
  },
  "language_info": {
   "codemirror_mode": {
    "name": "ipython",
    "version": 3
   },
   "file_extension": ".py",
   "mimetype": "text/x-python",
   "name": "python",
   "nbconvert_exporter": "python",
   "pygments_lexer": "ipython3",
   "version": "3.10.9"
  }
 },
 "nbformat": 4,
 "nbformat_minor": 5
}
